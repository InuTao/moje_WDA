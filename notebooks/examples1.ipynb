{
 "cells": [
  {
   "cell_type": "markdown",
   "metadata": {},
   "source": [
    "## Úloha 1.6\n",
    "\n",
    "Otestujte, či zadaná hodnota obsahuje neprázdny reťazec. Hodnota môže byť aj `None`."
   ]
  },
  {
   "cell_type": "code",
   "execution_count": 1,
   "metadata": {},
   "outputs": [],
   "source": [
    "value = \"\"\n",
    "# = False\n",
    "\n",
    "value = None\n",
    "# = False\n",
    "\n",
    "value = \"Python\"\n",
    "# = True"
   ]
  },
  {
   "cell_type": "code",
   "execution_count": 4,
   "metadata": {},
   "outputs": [
    {
     "data": {
      "text/plain": [
       "True"
      ]
     },
     "execution_count": 4,
     "metadata": {},
     "output_type": "execute_result"
    }
   ],
   "source": [
    "(value is not \"\")"
   ]
  },
  {
   "cell_type": "markdown",
   "metadata": {},
   "source": [
    "## Úloha 1.7\n",
    "\n",
    "Pomocou operátora `%` zaokrúhlite nasledujúce hodnoty na najbližší vyšší násobok 10."
   ]
  },
  {
   "cell_type": "code",
   "execution_count": 20,
   "metadata": {},
   "outputs": [],
   "source": [
    "value = 13 # očakávaná hodnota 20\n",
    "\n",
    "# value = 101 # očakávaná hodnota 110"
   ]
  },
  {
   "cell_type": "code",
   "execution_count": 22,
   "metadata": {},
   "outputs": [
    {
     "data": {
      "text/plain": [
       "3"
      ]
     },
     "execution_count": 22,
     "metadata": {},
     "output_type": "execute_result"
    }
   ],
   "source": [
    "(value % 5)"
   ]
  },
  {
   "cell_type": "markdown",
   "metadata": {},
   "source": [
    "## Úloha 1.8\n",
    "\n",
    "Otestujte, či druhý znak reťazca je písmeno `a` a predposledný znak písmeno `z`."
   ]
  },
  {
   "cell_type": "code",
   "execution_count": 46,
   "metadata": {},
   "outputs": [],
   "source": [
    "#s = \"abcza\"\n",
    "# = False\n",
    "\n",
    "#s = \"bacza\"\n",
    "# = True\n",
    "\n",
    "#s = \"bacaz\"\n",
    "# = False"
   ]
  },
  {
   "cell_type": "code",
   "execution_count": 47,
   "metadata": {},
   "outputs": [
    {
     "name": "stdout",
     "output_type": "stream",
     "text": [
      "1\n",
      "4\n",
      "5\n"
     ]
    },
    {
     "data": {
      "text/plain": [
       "False"
      ]
     },
     "execution_count": 47,
     "metadata": {},
     "output_type": "execute_result"
    }
   ],
   "source": [
    "s1 = s.find(\"a\")\n",
    "print(s1)\n",
    "s2 = s.find(\"z\")\n",
    "print(s2)\n",
    "leng = len(s)\n",
    "print(leng)\n",
    "(s1 == 1 and s2 == (leng - 2)) "
   ]
  },
  {
   "cell_type": "markdown",
   "metadata": {},
   "source": [
    "## Úloha 1.9\n",
    "\n",
    "Vydeľte dve číselné hodnoty v reťazcoch a výsledok vypíšte na 4 desatinné miesta. Všimnite si, že Python používa ako znak desatinnej čiarky `.`, tzn. pri druhom čísle musíte najprv nahradiť znak `,` za `.`. Pred delením musíte hodnoty skonvertovať z reťazcov na čísla."
   ]
  },
  {
   "cell_type": "code",
   "execution_count": 42,
   "metadata": {},
   "outputs": [],
   "source": [
    "value1 = \"10\"\n",
    "value2 = \"3,14\""
   ]
  },
  {
   "cell_type": "code",
   "execution_count": 47,
   "metadata": {},
   "outputs": [
    {
     "name": "stdout",
     "output_type": "stream",
     "text": [
      "3.14\n",
      "3.184713375796178\n"
     ]
    }
   ],
   "source": [
    "value1 = int(value1)\n",
    "value2 = (value2.replace(\",\",\".\"))\n",
    "print(value2)\n",
    "value2 = float(value2)\n",
    "hodnota = (value1 / value2)\n",
    "print(hodnota)\n"
   ]
  },
  {
   "cell_type": "markdown",
   "metadata": {},
   "source": [
    "## Úloha 1.10\n",
    "\n",
    "Napíšte výraz, ktorý sa vyhodnotí na `True` ak meno používateľa obsahuje jeho heslo so zanedbaním veľkosti písmen."
   ]
  },
  {
   "cell_type": "code",
   "execution_count": 61,
   "metadata": {},
   "outputs": [],
   "source": [
    "#username = \"Peter\"\n",
    "#password = \"123\"\n",
    "# = False\n",
    "\n",
    "#username = \"123Peter\"\n",
    "#password = \"peter\"\n",
    "# = True\n",
    "\n",
    "#username = \"peter123\"\n",
    "#password = \"PeTeR\"\n",
    "# = True\n",
    "\n",
    "username = \"peter\"\n",
    "password = \"peter123\"\n",
    "# = False"
   ]
  },
  {
   "cell_type": "code",
   "execution_count": 65,
   "metadata": {},
   "outputs": [
    {
     "name": "stdout",
     "output_type": "stream",
     "text": [
      "peter123\n",
      "-1\n"
     ]
    },
    {
     "data": {
      "text/plain": [
       "True"
      ]
     },
     "execution_count": 65,
     "metadata": {},
     "output_type": "execute_result"
    }
   ],
   "source": [
    "print(password)\n",
    "vysledok = (username.find(password))\n",
    "print(vysledok)\n",
    "(vysledok is -1)\n"
   ]
  },
  {
   "cell_type": "markdown",
   "metadata": {},
   "source": [
    "## Úloha 1.11\n",
    "\n",
    "Pomocou formátovacích reťazcov pre zadanú premennu `error` vypíšte správu v tvare `chyba: [hodnota chyby na 3 desatinné miesta], presnosť: [percentuálna hodnota presnosti na jedno desatinné miesto] %)`. Presnosť sa vypočíta ako 1 - chyba."
   ]
  },
  {
   "cell_type": "code",
   "execution_count": 1,
   "metadata": {},
   "outputs": [],
   "source": [
    "error = 27/1000\n",
    "# vypíše správu `chyba: 0.027, presnosť: 97.3 %`"
   ]
  },
  {
   "cell_type": "code",
   "execution_count": 2,
   "metadata": {},
   "outputs": [
    {
     "name": "stdout",
     "output_type": "stream",
     "text": [
      "0.027\n"
     ]
    }
   ],
   "source": [
    "print(error)"
   ]
  },
  {
   "cell_type": "code",
   "execution_count": null,
   "metadata": {},
   "outputs": [],
   "source": []
  }
 ],
 "metadata": {
  "kernelspec": {
   "display_name": "Python 3",
   "language": "python",
   "name": "python3"
  },
  "language_info": {
   "codemirror_mode": {
    "name": "ipython",
    "version": 3
   },
   "file_extension": ".py",
   "mimetype": "text/x-python",
   "name": "python",
   "nbconvert_exporter": "python",
   "pygments_lexer": "ipython3",
   "version": "3.7.4"
  }
 },
 "nbformat": 4,
 "nbformat_minor": 4
}
