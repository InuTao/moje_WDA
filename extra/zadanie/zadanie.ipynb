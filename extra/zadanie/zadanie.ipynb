{
 "cells": [
  {
   "cell_type": "markdown",
   "metadata": {},
   "source": [
    "### Zadanie\n",
    "\n",
    "1. Načítajte súbor `Accidents.csv`, rozdeľte ho na tri tabuľky podľa hodnôt atribútu `Accident_Severity` (do prvej tabuľky vyberte iba hodnoty 1 - `Fatal`, do druhej 2 - `Serious` a do tretej 3 - `Slight`). (2b)\n",
    "\n"
   ]
  },
  {
   "cell_type": "code",
   "execution_count": 9,
   "metadata": {},
   "outputs": [],
   "source": [
    "import pandas as pd\n",
    "import numpy as np"
   ]
  },
  {
   "cell_type": "code",
   "execution_count": 10,
   "metadata": {},
   "outputs": [
    {
     "data": {
      "text/html": [
       "<div>\n",
       "<style scoped>\n",
       "    .dataframe tbody tr th:only-of-type {\n",
       "        vertical-align: middle;\n",
       "    }\n",
       "\n",
       "    .dataframe tbody tr th {\n",
       "        vertical-align: top;\n",
       "    }\n",
       "\n",
       "    .dataframe thead th {\n",
       "        text-align: right;\n",
       "    }\n",
       "</style>\n",
       "<table border=\"1\" class=\"dataframe\">\n",
       "  <thead>\n",
       "    <tr style=\"text-align: right;\">\n",
       "      <th></th>\n",
       "      <th>Accident_Index</th>\n",
       "      <th>Location_Easting_OSGR</th>\n",
       "      <th>Location_Northing_OSGR</th>\n",
       "      <th>Longitude</th>\n",
       "      <th>Latitude</th>\n",
       "      <th>Police_Force</th>\n",
       "      <th>Accident_Severity</th>\n",
       "      <th>Number_of_Vehicles</th>\n",
       "      <th>Number_of_Casualties</th>\n",
       "      <th>Date</th>\n",
       "      <th>...</th>\n",
       "      <th>Pedestrian_Crossing-Human_Control</th>\n",
       "      <th>Pedestrian_Crossing-Physical_Facilities</th>\n",
       "      <th>Light_Conditions</th>\n",
       "      <th>Weather_Conditions</th>\n",
       "      <th>Road_Surface_Conditions</th>\n",
       "      <th>Special_Conditions_at_Site</th>\n",
       "      <th>Carriageway_Hazards</th>\n",
       "      <th>Urban_or_Rural_Area</th>\n",
       "      <th>Did_Police_Officer_Attend_Scene_of_Accident</th>\n",
       "      <th>LSOA_of_Accident_Location</th>\n",
       "    </tr>\n",
       "  </thead>\n",
       "  <tbody>\n",
       "    <tr>\n",
       "      <th>0</th>\n",
       "      <td>200501BS00001</td>\n",
       "      <td>525680.0</td>\n",
       "      <td>178240.0</td>\n",
       "      <td>-0.191170</td>\n",
       "      <td>51.489096</td>\n",
       "      <td>1</td>\n",
       "      <td>2</td>\n",
       "      <td>1</td>\n",
       "      <td>1</td>\n",
       "      <td>04/01/2005</td>\n",
       "      <td>...</td>\n",
       "      <td>0</td>\n",
       "      <td>1</td>\n",
       "      <td>1</td>\n",
       "      <td>2</td>\n",
       "      <td>2</td>\n",
       "      <td>0</td>\n",
       "      <td>0</td>\n",
       "      <td>1</td>\n",
       "      <td>1</td>\n",
       "      <td>E01002849</td>\n",
       "    </tr>\n",
       "    <tr>\n",
       "      <th>1</th>\n",
       "      <td>200501BS00002</td>\n",
       "      <td>524170.0</td>\n",
       "      <td>181650.0</td>\n",
       "      <td>-0.211708</td>\n",
       "      <td>51.520075</td>\n",
       "      <td>1</td>\n",
       "      <td>3</td>\n",
       "      <td>1</td>\n",
       "      <td>1</td>\n",
       "      <td>05/01/2005</td>\n",
       "      <td>...</td>\n",
       "      <td>0</td>\n",
       "      <td>5</td>\n",
       "      <td>4</td>\n",
       "      <td>1</td>\n",
       "      <td>1</td>\n",
       "      <td>0</td>\n",
       "      <td>0</td>\n",
       "      <td>1</td>\n",
       "      <td>1</td>\n",
       "      <td>E01002909</td>\n",
       "    </tr>\n",
       "    <tr>\n",
       "      <th>2</th>\n",
       "      <td>200501BS00003</td>\n",
       "      <td>524520.0</td>\n",
       "      <td>182240.0</td>\n",
       "      <td>-0.206458</td>\n",
       "      <td>51.525301</td>\n",
       "      <td>1</td>\n",
       "      <td>3</td>\n",
       "      <td>2</td>\n",
       "      <td>1</td>\n",
       "      <td>06/01/2005</td>\n",
       "      <td>...</td>\n",
       "      <td>0</td>\n",
       "      <td>0</td>\n",
       "      <td>4</td>\n",
       "      <td>1</td>\n",
       "      <td>1</td>\n",
       "      <td>0</td>\n",
       "      <td>0</td>\n",
       "      <td>1</td>\n",
       "      <td>1</td>\n",
       "      <td>E01002857</td>\n",
       "    </tr>\n",
       "    <tr>\n",
       "      <th>3</th>\n",
       "      <td>200501BS00004</td>\n",
       "      <td>526900.0</td>\n",
       "      <td>177530.0</td>\n",
       "      <td>-0.173862</td>\n",
       "      <td>51.482442</td>\n",
       "      <td>1</td>\n",
       "      <td>3</td>\n",
       "      <td>1</td>\n",
       "      <td>1</td>\n",
       "      <td>07/01/2005</td>\n",
       "      <td>...</td>\n",
       "      <td>0</td>\n",
       "      <td>0</td>\n",
       "      <td>1</td>\n",
       "      <td>1</td>\n",
       "      <td>1</td>\n",
       "      <td>0</td>\n",
       "      <td>0</td>\n",
       "      <td>1</td>\n",
       "      <td>1</td>\n",
       "      <td>E01002840</td>\n",
       "    </tr>\n",
       "    <tr>\n",
       "      <th>4</th>\n",
       "      <td>200501BS00005</td>\n",
       "      <td>528060.0</td>\n",
       "      <td>179040.0</td>\n",
       "      <td>-0.156618</td>\n",
       "      <td>51.495752</td>\n",
       "      <td>1</td>\n",
       "      <td>3</td>\n",
       "      <td>1</td>\n",
       "      <td>1</td>\n",
       "      <td>10/01/2005</td>\n",
       "      <td>...</td>\n",
       "      <td>0</td>\n",
       "      <td>0</td>\n",
       "      <td>7</td>\n",
       "      <td>1</td>\n",
       "      <td>2</td>\n",
       "      <td>0</td>\n",
       "      <td>0</td>\n",
       "      <td>1</td>\n",
       "      <td>1</td>\n",
       "      <td>E01002863</td>\n",
       "    </tr>\n",
       "  </tbody>\n",
       "</table>\n",
       "<p>5 rows × 32 columns</p>\n",
       "</div>"
      ],
      "text/plain": [
       "  Accident_Index  Location_Easting_OSGR  Location_Northing_OSGR  Longitude  \\\n",
       "0  200501BS00001               525680.0                178240.0  -0.191170   \n",
       "1  200501BS00002               524170.0                181650.0  -0.211708   \n",
       "2  200501BS00003               524520.0                182240.0  -0.206458   \n",
       "3  200501BS00004               526900.0                177530.0  -0.173862   \n",
       "4  200501BS00005               528060.0                179040.0  -0.156618   \n",
       "\n",
       "    Latitude  Police_Force  Accident_Severity  Number_of_Vehicles  \\\n",
       "0  51.489096             1                  2                   1   \n",
       "1  51.520075             1                  3                   1   \n",
       "2  51.525301             1                  3                   2   \n",
       "3  51.482442             1                  3                   1   \n",
       "4  51.495752             1                  3                   1   \n",
       "\n",
       "   Number_of_Casualties        Date  ...  Pedestrian_Crossing-Human_Control  \\\n",
       "0                     1  04/01/2005  ...                                  0   \n",
       "1                     1  05/01/2005  ...                                  0   \n",
       "2                     1  06/01/2005  ...                                  0   \n",
       "3                     1  07/01/2005  ...                                  0   \n",
       "4                     1  10/01/2005  ...                                  0   \n",
       "\n",
       "  Pedestrian_Crossing-Physical_Facilities  Light_Conditions  \\\n",
       "0                                       1                 1   \n",
       "1                                       5                 4   \n",
       "2                                       0                 4   \n",
       "3                                       0                 1   \n",
       "4                                       0                 7   \n",
       "\n",
       "  Weather_Conditions  Road_Surface_Conditions  Special_Conditions_at_Site  \\\n",
       "0                  2                        2                           0   \n",
       "1                  1                        1                           0   \n",
       "2                  1                        1                           0   \n",
       "3                  1                        1                           0   \n",
       "4                  1                        2                           0   \n",
       "\n",
       "   Carriageway_Hazards  Urban_or_Rural_Area  \\\n",
       "0                    0                    1   \n",
       "1                    0                    1   \n",
       "2                    0                    1   \n",
       "3                    0                    1   \n",
       "4                    0                    1   \n",
       "\n",
       "   Did_Police_Officer_Attend_Scene_of_Accident  LSOA_of_Accident_Location  \n",
       "0                                            1                  E01002849  \n",
       "1                                            1                  E01002909  \n",
       "2                                            1                  E01002857  \n",
       "3                                            1                  E01002840  \n",
       "4                                            1                  E01002863  \n",
       "\n",
       "[5 rows x 32 columns]"
      ]
     },
     "execution_count": 10,
     "metadata": {},
     "output_type": "execute_result"
    }
   ],
   "source": [
    "data = pd.read_csv('./data/Accidents.csv')\n",
    "data.head()"
   ]
  },
  {
   "cell_type": "code",
   "execution_count": 11,
   "metadata": {},
   "outputs": [
    {
     "name": "stdout",
     "output_type": "stream",
     "text": [
      "(198735, 32)\n",
      "(2913, 32)\n",
      "(25029, 32)\n",
      "(170793, 32)\n"
     ]
    }
   ],
   "source": [
    "Fatal = data[data['Accident_Severity'] == 1]\n",
    "Serious = data[data['Accident_Severity'] == 2]\n",
    "Slight = data[data['Accident_Severity'] == 3]\n",
    "print(data.shape)\n",
    "print(Fatal.shape)\n",
    "print(Serious.shape)\n",
    "print(Slight.shape)"
   ]
  },
  {
   "cell_type": "markdown",
   "metadata": {},
   "source": [
    "2. Z tabuľky pre hodnoty `Slight` náhodne vyberte 10% príkladov pomocou metódy `sample`. Nasledujúci príklad kódu zobrazuje použitie tejto metódy. (2b)"
   ]
  },
  {
   "cell_type": "code",
   "execution_count": 12,
   "metadata": {},
   "outputs": [],
   "source": [
    "# `frac` udáva koľko príkladov sa má náhodne vybrať (0.1 = 10%), `random_state` inicializuje generátor\n",
    "# náhodných čísel, aby sme vždy dostali rovnaký výber\n",
    "sample_data = Slight.sample(frac=0.1, random_state=1234)"
   ]
  },
  {
   "cell_type": "code",
   "execution_count": 13,
   "metadata": {},
   "outputs": [
    {
     "name": "stdout",
     "output_type": "stream",
     "text": [
      "(17079, 32)\n"
     ]
    }
   ],
   "source": [
    "accidents_slight_sample = Slight.sample(frac=0.1, random_state=1234)\n",
    "print(accidents_slight_sample.shape)"
   ]
  },
  {
   "cell_type": "markdown",
   "metadata": {},
   "source": [
    "3. Spojte všetky tri tabuľky do upravenej tabuľky `Accidents`, ktorá bude obsahovať 10% príkladov `Slight` a všetky príklady závažnosti `Fatal` a `Serious`. Po spojení by ste mali mať 29 650 príkladov. (2b)"
   ]
  },
  {
   "cell_type": "code",
   "execution_count": 14,
   "metadata": {},
   "outputs": [
    {
     "name": "stdout",
     "output_type": "stream",
     "text": [
      "(45021, 32)\n"
     ]
    }
   ],
   "source": [
    "Accidents = pd.concat([accidents_slight_sample, Fatal, Serious], axis =0)\n",
    "print(Accidents.shape)"
   ]
  },
  {
   "cell_type": "markdown",
   "metadata": {},
   "source": [
    "4. Spojte upravenú tabuľku `Accidents` s tabuľkou `Vehicles` podľa kľúča `Accident_Index` tak, aby vo výslednej tabuľke boli iba vozidla nehôd z upravenej tabuľky `Accidents`. Po spojení by ste mali dostať redukovanú trénovaciu množinu s menším počtom príkladov, ktorú budete ďalej používať pre analýzu dát. Keďže sme zmenšili počet menej závažných príkladov, zvýšili sme tým váhu príkladov s väčšou závažnosťou. (2b)\n"
   ]
  },
  {
   "cell_type": "code",
   "execution_count": 15,
   "metadata": {},
   "outputs": [
    {
     "name": "stdout",
     "output_type": "stream",
     "text": [
      "(366236, 22)\n"
     ]
    }
   ],
   "source": [
    "Vehicles = pd.read_csv('./data/Vehicles.csv')\n",
    "print(Vehicles.shape)"
   ]
  },
  {
   "cell_type": "code",
   "execution_count": 16,
   "metadata": {
    "scrolled": true
   },
   "outputs": [
    {
     "name": "stdout",
     "output_type": "stream",
     "text": [
      "(79382, 53)\n"
     ]
    }
   ],
   "source": [
    "Accidents = pd.merge(Accidents, Vehicles, on = \"Accident_Index\", how = \"inner\")\n",
    "print(Accidents.shape)"
   ]
  },
  {
   "cell_type": "markdown",
   "metadata": {},
   "source": [
    "5. Pre ďalšiu analýzu vyberte iba nasledujúce atribúty:\n",
    "    * `Day_of_Week`\n",
    "    * `1st_Road_Class`\n",
    "    * `Road_Type`\n",
    "    * `Light_Conditions`\n",
    "    * `Weather_Conditions`     \n",
    "    * `Road_Surface_Conditions`\n",
    "    * `Urban_or_Rural_Area`\n",
    "    * `Vehicle_Type`\n",
    "    * `Sex_of_Driver`\n",
    "    * `Age_of_Driver`\n",
    "    * `Engine_Capacity_(CC)`\n",
    "    * `Age_of_Vehicle`\n",
    "    * `Accident_Severity` \n",
    "    \n",
    "Takúto selekciu atribútov urobíme kvôli odstráneniu redundantných atribútov v datasete. Nepoužijeme redundantné atribúty popisujúce napr. geolokalitu, atď., prípadne odstránime atribúty, ktoré pre predikciu nemôžu byť použité (nie sú známe pred výskytom samotnej nehody). (2b)\n"
   ]
  },
  {
   "cell_type": "code",
   "execution_count": 17,
   "metadata": {},
   "outputs": [
    {
     "name": "stdout",
     "output_type": "stream",
     "text": [
      "(79382, 53)\n"
     ]
    }
   ],
   "source": [
    "print(Accidents.shape)"
   ]
  },
  {
   "cell_type": "code",
   "execution_count": 18,
   "metadata": {},
   "outputs": [
    {
     "name": "stdout",
     "output_type": "stream",
     "text": [
      "(79382, 13)\n"
     ]
    }
   ],
   "source": [
    "drop_list = [\"Day_of_Week\", \"1st_Road_Class\", \"Road_Type\", \"Light_Conditions\", \"Weather_Conditions\", \"Road_Surface_Conditions\", \"Urban_or_Rural_Area\", \"Vehicle_Type\", \"Sex_of_Driver\", \"Age_of_Driver\", \"Engine_Capacity_(CC)\", \"Age_of_Vehicle\", \"Accident_Severity\"]\n",
    "test = Accidents.drop(Accidents.columns.difference(drop_list), axis=1)\n",
    "print(test.shape)"
   ]
  },
  {
   "cell_type": "markdown",
   "metadata": {},
   "source": [
    "6. Spočítajte počet chýbajúcich hodnôt pre jednotlivé atribúty. Vhodne doplňte chýbajúce hodnoty (pozor: chýbajúce hodnoty sú označené -1).(4b)\n"
   ]
  },
  {
   "cell_type": "code",
   "execution_count": 20,
   "metadata": {},
   "outputs": [
    {
     "data": {
      "text/plain": [
       "Accident_Severity          0\n",
       "Day_of_Week                0\n",
       "1st_Road_Class             0\n",
       "Road_Type                  0\n",
       "Light_Conditions           0\n",
       "Weather_Conditions         0\n",
       "Road_Surface_Conditions    0\n",
       "Urban_or_Rural_Area        0\n",
       "Vehicle_Type               0\n",
       "Sex_of_Driver              0\n",
       "Age_of_Driver              0\n",
       "Engine_Capacity_(CC)       0\n",
       "Age_of_Vehicle             0\n",
       "dtype: int64"
      ]
     },
     "execution_count": 20,
     "metadata": {},
     "output_type": "execute_result"
    }
   ],
   "source": [
    "test.isna().sum()"
   ]
  },
  {
   "cell_type": "code",
   "execution_count": 21,
   "metadata": {},
   "outputs": [
    {
     "data": {
      "text/plain": [
       "Accident_Severity              0\n",
       "Day_of_Week                    0\n",
       "1st_Road_Class                 0\n",
       "Road_Type                      0\n",
       "Light_Conditions               0\n",
       "Weather_Conditions             0\n",
       "Road_Surface_Conditions       80\n",
       "Urban_or_Rural_Area            0\n",
       "Vehicle_Type                  14\n",
       "Sex_of_Driver                  7\n",
       "Age_of_Driver               7784\n",
       "Engine_Capacity_(CC)       24978\n",
       "Age_of_Vehicle             27406\n",
       "dtype: int64"
      ]
     },
     "execution_count": 21,
     "metadata": {},
     "output_type": "execute_result"
    }
   ],
   "source": [
    "test = test.replace(-1, np.nan)\n",
    "test.isna().sum()"
   ]
  },
  {
   "cell_type": "code",
   "execution_count": 22,
   "metadata": {},
   "outputs": [
    {
     "data": {
      "text/html": [
       "<div>\n",
       "<style scoped>\n",
       "    .dataframe tbody tr th:only-of-type {\n",
       "        vertical-align: middle;\n",
       "    }\n",
       "\n",
       "    .dataframe tbody tr th {\n",
       "        vertical-align: top;\n",
       "    }\n",
       "\n",
       "    .dataframe thead th {\n",
       "        text-align: right;\n",
       "    }\n",
       "</style>\n",
       "<table border=\"1\" class=\"dataframe\">\n",
       "  <thead>\n",
       "    <tr style=\"text-align: right;\">\n",
       "      <th></th>\n",
       "      <th>Accident_Severity</th>\n",
       "      <th>Day_of_Week</th>\n",
       "      <th>1st_Road_Class</th>\n",
       "      <th>Road_Type</th>\n",
       "      <th>Light_Conditions</th>\n",
       "      <th>Weather_Conditions</th>\n",
       "      <th>Road_Surface_Conditions</th>\n",
       "      <th>Urban_or_Rural_Area</th>\n",
       "      <th>Vehicle_Type</th>\n",
       "      <th>Sex_of_Driver</th>\n",
       "      <th>Age_of_Driver</th>\n",
       "      <th>Engine_Capacity_(CC)</th>\n",
       "      <th>Age_of_Vehicle</th>\n",
       "    </tr>\n",
       "  </thead>\n",
       "  <tbody>\n",
       "    <tr>\n",
       "      <th>0</th>\n",
       "      <td>3</td>\n",
       "      <td>2</td>\n",
       "      <td>4</td>\n",
       "      <td>6</td>\n",
       "      <td>1</td>\n",
       "      <td>8</td>\n",
       "      <td>1.0</td>\n",
       "      <td>1</td>\n",
       "      <td>9.0</td>\n",
       "      <td>1.0</td>\n",
       "      <td>NaN</td>\n",
       "      <td>NaN</td>\n",
       "      <td>NaN</td>\n",
       "    </tr>\n",
       "    <tr>\n",
       "      <th>1</th>\n",
       "      <td>3</td>\n",
       "      <td>2</td>\n",
       "      <td>4</td>\n",
       "      <td>6</td>\n",
       "      <td>1</td>\n",
       "      <td>8</td>\n",
       "      <td>1.0</td>\n",
       "      <td>1</td>\n",
       "      <td>1.0</td>\n",
       "      <td>1.0</td>\n",
       "      <td>26.0</td>\n",
       "      <td>NaN</td>\n",
       "      <td>NaN</td>\n",
       "    </tr>\n",
       "    <tr>\n",
       "      <th>2</th>\n",
       "      <td>3</td>\n",
       "      <td>5</td>\n",
       "      <td>1</td>\n",
       "      <td>3</td>\n",
       "      <td>1</td>\n",
       "      <td>1</td>\n",
       "      <td>2.0</td>\n",
       "      <td>2</td>\n",
       "      <td>9.0</td>\n",
       "      <td>2.0</td>\n",
       "      <td>72.0</td>\n",
       "      <td>998.0</td>\n",
       "      <td>5.0</td>\n",
       "    </tr>\n",
       "    <tr>\n",
       "      <th>3</th>\n",
       "      <td>3</td>\n",
       "      <td>5</td>\n",
       "      <td>1</td>\n",
       "      <td>3</td>\n",
       "      <td>1</td>\n",
       "      <td>1</td>\n",
       "      <td>2.0</td>\n",
       "      <td>2</td>\n",
       "      <td>9.0</td>\n",
       "      <td>2.0</td>\n",
       "      <td>44.0</td>\n",
       "      <td>1461.0</td>\n",
       "      <td>1.0</td>\n",
       "    </tr>\n",
       "    <tr>\n",
       "      <th>4</th>\n",
       "      <td>3</td>\n",
       "      <td>5</td>\n",
       "      <td>1</td>\n",
       "      <td>3</td>\n",
       "      <td>1</td>\n",
       "      <td>1</td>\n",
       "      <td>2.0</td>\n",
       "      <td>2</td>\n",
       "      <td>19.0</td>\n",
       "      <td>1.0</td>\n",
       "      <td>40.0</td>\n",
       "      <td>2461.0</td>\n",
       "      <td>1.0</td>\n",
       "    </tr>\n",
       "  </tbody>\n",
       "</table>\n",
       "</div>"
      ],
      "text/plain": [
       "   Accident_Severity  Day_of_Week  1st_Road_Class  Road_Type  \\\n",
       "0                  3            2               4          6   \n",
       "1                  3            2               4          6   \n",
       "2                  3            5               1          3   \n",
       "3                  3            5               1          3   \n",
       "4                  3            5               1          3   \n",
       "\n",
       "   Light_Conditions  Weather_Conditions  Road_Surface_Conditions  \\\n",
       "0                 1                   8                      1.0   \n",
       "1                 1                   8                      1.0   \n",
       "2                 1                   1                      2.0   \n",
       "3                 1                   1                      2.0   \n",
       "4                 1                   1                      2.0   \n",
       "\n",
       "   Urban_or_Rural_Area  Vehicle_Type  Sex_of_Driver  Age_of_Driver  \\\n",
       "0                    1           9.0            1.0            NaN   \n",
       "1                    1           1.0            1.0           26.0   \n",
       "2                    2           9.0            2.0           72.0   \n",
       "3                    2           9.0            2.0           44.0   \n",
       "4                    2          19.0            1.0           40.0   \n",
       "\n",
       "   Engine_Capacity_(CC)  Age_of_Vehicle  \n",
       "0                   NaN             NaN  \n",
       "1                   NaN             NaN  \n",
       "2                 998.0             5.0  \n",
       "3                1461.0             1.0  \n",
       "4                2461.0             1.0  "
      ]
     },
     "execution_count": 22,
     "metadata": {},
     "output_type": "execute_result"
    }
   ],
   "source": [
    "test.head()"
   ]
  },
  {
   "cell_type": "code",
   "execution_count": 27,
   "metadata": {},
   "outputs": [
    {
     "data": {
      "image/png": "[encoded data removed]",
      "text/plain": [
       "<Figure size 432x288 with 1 Axes>"
      ]
     },
     "metadata": {
      "needs_background": "light"
     },
     "output_type": "display_data"
    }
   ],
   "source": [
    "p = test[\"Age_of_Driver\"].hist()"
   ]
  },
  {
   "cell_type": "markdown",
   "metadata": {},
   "source": [
    "###### Pozn. autora: ( :) ) Nasledne sa pomocou medianu alebo najcastejsie sa objavujuceho vysledku pokusime nahradit chybajuce hodnoty. Po kazdej akcii nasledne overim, ci naozaj vysledok chybajucich hodnot pre dany attribut sa rovna 0."
   ]
  },
  {
   "cell_type": "code",
   "execution_count": 28,
   "metadata": {},
   "outputs": [
    {
     "name": "stdout",
     "output_type": "stream",
     "text": [
      "Age of Driver mean: 37.6817, median: 36.0000\n"
     ]
    }
   ],
   "source": [
    "Age_mean = test[\"Age_of_Driver\"].mean()\n",
    "Age_median = test[\"Age_of_Driver\"].median()\n",
    "print(\"Age of Driver mean: {0:.4f}, median: {1:.4f}\".format(Age_mean, Age_median))\n"
   ]
  },
  {
   "cell_type": "code",
   "execution_count": 29,
   "metadata": {},
   "outputs": [
    {
     "data": {
      "text/plain": [
       "0"
      ]
     },
     "execution_count": 29,
     "metadata": {},
     "output_type": "execute_result"
    }
   ],
   "source": [
    "test[\"Age_of_Driver\"].fillna(Age_median, inplace=True)\n",
    "test[\"Age_of_Driver\"].isna().sum() "
   ]
  },
  {
   "cell_type": "code",
   "execution_count": 30,
   "metadata": {},
   "outputs": [
    {
     "name": "stdout",
     "output_type": "stream",
     "text": [
      "Age of Vehicle mean: 6.6582, median: 6.0000\n"
     ]
    }
   ],
   "source": [
    "AgeV_mean = test[\"Age_of_Vehicle\"].mean()\n",
    "AgeV_median = test[\"Age_of_Vehicle\"].median()\n",
    "print(\"Age of Vehicle mean: {0:.4f}, median: {1:.4f}\".format(AgeV_mean, AgeV_median))"
   ]
  },
  {
   "cell_type": "code",
   "execution_count": 31,
   "metadata": {},
   "outputs": [
    {
     "data": {
      "text/plain": [
       "0"
      ]
     },
     "execution_count": 31,
     "metadata": {},
     "output_type": "execute_result"
    }
   ],
   "source": [
    "test[\"Age_of_Vehicle\"].fillna(AgeV_median, inplace=True)\n",
    "test[\"Age_of_Vehicle\"].isna().sum() "
   ]
  },
  {
   "cell_type": "code",
   "execution_count": 32,
   "metadata": {},
   "outputs": [
    {
     "name": "stdout",
     "output_type": "stream",
     "text": [
      "Engine_Capacity_(CC) mean: 1918.8084, median: 1597.0000\n"
     ]
    }
   ],
   "source": [
    "Engine_mean = test[\"Engine_Capacity_(CC)\"].mean()\n",
    "Engine_median = test[\"Engine_Capacity_(CC)\"].median()\n",
    "print(\"Engine_Capacity_(CC) mean: {0:.4f}, median: {1:.4f}\".format(Engine_mean, Engine_median))"
   ]
  },
  {
   "cell_type": "code",
   "execution_count": 33,
   "metadata": {},
   "outputs": [
    {
     "data": {
      "text/plain": [
       "0"
      ]
     },
     "execution_count": 33,
     "metadata": {},
     "output_type": "execute_result"
    }
   ],
   "source": [
    "test[\"Engine_Capacity_(CC)\"].fillna(Engine_median, inplace=True)\n",
    "test[\"Engine_Capacity_(CC)\"].isna().sum() "
   ]
  },
  {
   "cell_type": "code",
   "execution_count": 34,
   "metadata": {},
   "outputs": [
    {
     "data": {
      "text/plain": [
       "Accident_Severity           0\n",
       "Day_of_Week                 0\n",
       "1st_Road_Class              0\n",
       "Road_Type                   0\n",
       "Light_Conditions            0\n",
       "Weather_Conditions          0\n",
       "Road_Surface_Conditions    80\n",
       "Urban_or_Rural_Area         0\n",
       "Vehicle_Type               14\n",
       "Sex_of_Driver               7\n",
       "Age_of_Driver               0\n",
       "Engine_Capacity_(CC)        0\n",
       "Age_of_Vehicle              0\n",
       "dtype: int64"
      ]
     },
     "execution_count": 34,
     "metadata": {},
     "output_type": "execute_result"
    }
   ],
   "source": [
    "test.isna().sum()"
   ]
  },
  {
   "cell_type": "code",
   "execution_count": 35,
   "metadata": {},
   "outputs": [
    {
     "data": {
      "text/plain": [
       "1.0    54700\n",
       "2.0    23007\n",
       "4.0     1147\n",
       "3.0      358\n",
       "5.0       90\n",
       "Name: Road_Surface_Conditions, dtype: int64"
      ]
     },
     "execution_count": 35,
     "metadata": {},
     "output_type": "execute_result"
    }
   ],
   "source": [
    "test[\"Road_Surface_Conditions\"].value_counts()"
   ]
  },
  {
   "cell_type": "code",
   "execution_count": 36,
   "metadata": {},
   "outputs": [
    {
     "data": {
      "text/plain": [
       "0"
      ]
     },
     "execution_count": 36,
     "metadata": {},
     "output_type": "execute_result"
    }
   ],
   "source": [
    "test[\"Road_Surface_Conditions\"].fillna(1.0, inplace=True)\n",
    "test[\"Road_Surface_Conditions\"].isna().sum() "
   ]
  },
  {
   "cell_type": "code",
   "execution_count": 37,
   "metadata": {},
   "outputs": [
    {
     "data": {
      "text/plain": [
       "9.0     55695\n",
       "5.0      4434\n",
       "1.0      3929\n",
       "19.0     3514\n",
       "21.0     2463\n",
       "3.0      2121\n",
       "11.0     2018\n",
       "2.0      1321\n",
       "8.0      1180\n",
       "4.0       908\n",
       "20.0      698\n",
       "90.0      532\n",
       "10.0      281\n",
       "17.0      230\n",
       "16.0       32\n",
       "18.0       12\n",
       "Name: Vehicle_Type, dtype: int64"
      ]
     },
     "execution_count": 37,
     "metadata": {},
     "output_type": "execute_result"
    }
   ],
   "source": [
    "test[\"Vehicle_Type\"].value_counts()"
   ]
  },
  {
   "cell_type": "code",
   "execution_count": 38,
   "metadata": {},
   "outputs": [
    {
     "data": {
      "text/plain": [
       "0"
      ]
     },
     "execution_count": 38,
     "metadata": {},
     "output_type": "execute_result"
    }
   ],
   "source": [
    "test[\"Vehicle_Type\"].fillna(9.0, inplace=True)\n",
    "test[\"Vehicle_Type\"].isna().sum() "
   ]
  },
  {
   "cell_type": "code",
   "execution_count": 40,
   "metadata": {},
   "outputs": [
    {
     "data": {
      "text/plain": [
       "1.0    56005\n",
       "2.0    19020\n",
       "3.0     4350\n",
       "Name: Sex_of_Driver, dtype: int64"
      ]
     },
     "execution_count": 40,
     "metadata": {},
     "output_type": "execute_result"
    }
   ],
   "source": [
    "test[\"Sex_of_Driver\"].value_counts()"
   ]
  },
  {
   "cell_type": "code",
   "execution_count": 41,
   "metadata": {},
   "outputs": [
    {
     "data": {
      "text/plain": [
       "0"
      ]
     },
     "execution_count": 41,
     "metadata": {},
     "output_type": "execute_result"
    }
   ],
   "source": [
    "test[\"Sex_of_Driver\"].fillna(1.0, inplace=True)\n",
    "test[\"Sex_of_Driver\"].isna().sum() "
   ]
  },
  {
   "cell_type": "markdown",
   "metadata": {},
   "source": [
    "7. Pomocou konfigenčnej tabuľky vyjadrite závislosti medzi nasledujúcimi atribútmi a cieľovým atribútom `Accident_Severity`:\n",
    "* `Day_of_Week` \n",
    "* `Sex_of_Driver`\n",
    "* `Age_of_Driver` (nutné diskretizovať tento atribút)\n",
    "\n",
    "Použite niektorú z vizualizácií knižnice seaborn na grafické zobrazenie týchto vzťahov. (5b)"
   ]
  },
  {
   "cell_type": "code",
   "execution_count": 42,
   "metadata": {},
   "outputs": [
    {
     "data": {
      "text/plain": [
       "(2.999, 30.0]    27100\n",
       "(41.0, 98.0]     26317\n",
       "(30.0, 41.0]     25965\n",
       "Name: Age_ordinal, dtype: int64"
      ]
     },
     "execution_count": 42,
     "metadata": {},
     "output_type": "execute_result"
    }
   ],
   "source": [
    "test[\"Age_ordinal\"] = pd.qcut(test[\"Age_of_Driver\"], 3)\n",
    "test[\"Age_ordinal\"].value_counts()"
   ]
  },
  {
   "cell_type": "code",
   "execution_count": 43,
   "metadata": {
    "scrolled": true
   },
   "outputs": [
    {
     "data": {
      "text/plain": [
       "Early adulthood     27100\n",
       "Late Adulthood      26317\n",
       "Middle Adulthood    25965\n",
       "Name: Age_ordinal, dtype: int64"
      ]
     },
     "execution_count": 43,
     "metadata": {},
     "output_type": "execute_result"
    }
   ],
   "source": [
    "test[\"Age_ordinal\"] = pd.cut(test[\"Age_of_Driver\"], bins=[0, 30, 41, 100], include_lowest=True, labels=[\"Early adulthood\", \"Middle Adulthood\", \"Late Adulthood\"])\n",
    "test[\"Age_ordinal\"].value_counts()"
   ]
  },
  {
   "cell_type": "code",
   "execution_count": 44,
   "metadata": {},
   "outputs": [
    {
     "data": {
      "text/html": [
       "<div>\n",
       "<style scoped>\n",
       "    .dataframe tbody tr th:only-of-type {\n",
       "        vertical-align: middle;\n",
       "    }\n",
       "\n",
       "    .dataframe tbody tr th {\n",
       "        vertical-align: top;\n",
       "    }\n",
       "\n",
       "    .dataframe thead th {\n",
       "        text-align: right;\n",
       "    }\n",
       "</style>\n",
       "<table border=\"1\" class=\"dataframe\">\n",
       "  <thead>\n",
       "    <tr style=\"text-align: right;\">\n",
       "      <th></th>\n",
       "      <th>Day_of_Week</th>\n",
       "      <th>1</th>\n",
       "      <th>2</th>\n",
       "      <th>3</th>\n",
       "      <th>4</th>\n",
       "      <th>5</th>\n",
       "      <th>6</th>\n",
       "      <th>7</th>\n",
       "    </tr>\n",
       "    <tr>\n",
       "      <th>Age_ordinal</th>\n",
       "      <th>Sex_of_Driver</th>\n",
       "      <th></th>\n",
       "      <th></th>\n",
       "      <th></th>\n",
       "      <th></th>\n",
       "      <th></th>\n",
       "      <th></th>\n",
       "      <th></th>\n",
       "    </tr>\n",
       "  </thead>\n",
       "  <tbody>\n",
       "    <tr>\n",
       "      <th rowspan=\"3\" valign=\"top\">Early adulthood</th>\n",
       "      <th>1.0</th>\n",
       "      <td>2.260501</td>\n",
       "      <td>2.289203</td>\n",
       "      <td>2.322234</td>\n",
       "      <td>2.325376</td>\n",
       "      <td>2.324188</td>\n",
       "      <td>2.295658</td>\n",
       "      <td>2.229289</td>\n",
       "    </tr>\n",
       "    <tr>\n",
       "      <th>2.0</th>\n",
       "      <td>2.378162</td>\n",
       "      <td>2.473118</td>\n",
       "      <td>2.469667</td>\n",
       "      <td>2.440349</td>\n",
       "      <td>2.505664</td>\n",
       "      <td>2.480462</td>\n",
       "      <td>2.410367</td>\n",
       "    </tr>\n",
       "    <tr>\n",
       "      <th>3.0</th>\n",
       "      <td>2.142857</td>\n",
       "      <td>2.857143</td>\n",
       "      <td>2.428571</td>\n",
       "      <td>2.461538</td>\n",
       "      <td>2.357143</td>\n",
       "      <td>2.400000</td>\n",
       "      <td>2.250000</td>\n",
       "    </tr>\n",
       "    <tr>\n",
       "      <th rowspan=\"3\" valign=\"top\">Middle Adulthood</th>\n",
       "      <th>1.0</th>\n",
       "      <td>2.264054</td>\n",
       "      <td>2.366744</td>\n",
       "      <td>2.368330</td>\n",
       "      <td>2.355434</td>\n",
       "      <td>2.359555</td>\n",
       "      <td>2.353311</td>\n",
       "      <td>2.307528</td>\n",
       "    </tr>\n",
       "    <tr>\n",
       "      <th>2.0</th>\n",
       "      <td>2.386667</td>\n",
       "      <td>2.501754</td>\n",
       "      <td>2.476190</td>\n",
       "      <td>2.483660</td>\n",
       "      <td>2.476082</td>\n",
       "      <td>2.478261</td>\n",
       "      <td>2.417445</td>\n",
       "    </tr>\n",
       "    <tr>\n",
       "      <th>3.0</th>\n",
       "      <td>2.348409</td>\n",
       "      <td>2.486381</td>\n",
       "      <td>2.397338</td>\n",
       "      <td>2.421687</td>\n",
       "      <td>2.387889</td>\n",
       "      <td>2.429851</td>\n",
       "      <td>2.352507</td>\n",
       "    </tr>\n",
       "    <tr>\n",
       "      <th rowspan=\"3\" valign=\"top\">Late Adulthood</th>\n",
       "      <th>1.0</th>\n",
       "      <td>2.195709</td>\n",
       "      <td>2.292340</td>\n",
       "      <td>2.282114</td>\n",
       "      <td>2.302966</td>\n",
       "      <td>2.292434</td>\n",
       "      <td>2.280277</td>\n",
       "      <td>2.267264</td>\n",
       "    </tr>\n",
       "    <tr>\n",
       "      <th>2.0</th>\n",
       "      <td>2.283019</td>\n",
       "      <td>2.399374</td>\n",
       "      <td>2.445905</td>\n",
       "      <td>2.421596</td>\n",
       "      <td>2.385740</td>\n",
       "      <td>2.394353</td>\n",
       "      <td>2.312727</td>\n",
       "    </tr>\n",
       "    <tr>\n",
       "      <th>3.0</th>\n",
       "      <td>2.250000</td>\n",
       "      <td>2.000000</td>\n",
       "      <td>2.111111</td>\n",
       "      <td>2.666667</td>\n",
       "      <td>2.285714</td>\n",
       "      <td>2.500000</td>\n",
       "      <td>2.222222</td>\n",
       "    </tr>\n",
       "  </tbody>\n",
       "</table>\n",
       "</div>"
      ],
      "text/plain": [
       "Day_of_Week                            1         2         3         4  \\\n",
       "Age_ordinal      Sex_of_Driver                                           \n",
       "Early adulthood  1.0            2.260501  2.289203  2.322234  2.325376   \n",
       "                 2.0            2.378162  2.473118  2.469667  2.440349   \n",
       "                 3.0            2.142857  2.857143  2.428571  2.461538   \n",
       "Middle Adulthood 1.0            2.264054  2.366744  2.368330  2.355434   \n",
       "                 2.0            2.386667  2.501754  2.476190  2.483660   \n",
       "                 3.0            2.348409  2.486381  2.397338  2.421687   \n",
       "Late Adulthood   1.0            2.195709  2.292340  2.282114  2.302966   \n",
       "                 2.0            2.283019  2.399374  2.445905  2.421596   \n",
       "                 3.0            2.250000  2.000000  2.111111  2.666667   \n",
       "\n",
       "Day_of_Week                            5         6         7  \n",
       "Age_ordinal      Sex_of_Driver                                \n",
       "Early adulthood  1.0            2.324188  2.295658  2.229289  \n",
       "                 2.0            2.505664  2.480462  2.410367  \n",
       "                 3.0            2.357143  2.400000  2.250000  \n",
       "Middle Adulthood 1.0            2.359555  2.353311  2.307528  \n",
       "                 2.0            2.476082  2.478261  2.417445  \n",
       "                 3.0            2.387889  2.429851  2.352507  \n",
       "Late Adulthood   1.0            2.292434  2.280277  2.267264  \n",
       "                 2.0            2.385740  2.394353  2.312727  \n",
       "                 3.0            2.285714  2.500000  2.222222  "
      ]
     },
     "execution_count": 44,
     "metadata": {},
     "output_type": "execute_result"
    }
   ],
   "source": [
    "#test['Sex_of_Driver_new'] = test['Sex_of_Driver'].map({1: \"male\", 2: \"female\", 3:\"unknown\"})\n",
    "pd.pivot_table(test, index=[\"Age_ordinal\", \"Sex_of_Driver\"], columns=\"Day_of_Week\", values=\"Accident_Severity\", aggfunc=\"mean\")"
   ]
  },
  {
   "cell_type": "code",
   "execution_count": 45,
   "metadata": {},
   "outputs": [
    {
     "data": {
      "image/png": "[encoded data removed]",
      "text/plain": [
       "<Figure size 432x288 with 1 Axes>"
      ]
     },
     "metadata": {
      "needs_background": "light"
     },
     "output_type": "display_data"
    }
   ],
   "source": [
    "import seaborn as sns\n",
    "heatmap_data = pd.pivot_table(test, values='Accident_Severity', index=['Sex_of_Driver'], columns='Day_of_Week') # vytvoríme pivot table - hodnoty celkového účtu podľa veľkosti skupinky a dňa\n",
    "g = sns.heatmap(heatmap_data, annot=True, cmap=\"coolwarm\",  cbar=False)                   # vykreslíme heatmapu"
   ]
  },
  {
   "cell_type": "code",
   "execution_count": 46,
   "metadata": {},
   "outputs": [
    {
     "data": {
      "text/html": [
       "<div>\n",
       "<style scoped>\n",
       "    .dataframe tbody tr th:only-of-type {\n",
       "        vertical-align: middle;\n",
       "    }\n",
       "\n",
       "    .dataframe tbody tr th {\n",
       "        vertical-align: top;\n",
       "    }\n",
       "\n",
       "    .dataframe thead th {\n",
       "        text-align: right;\n",
       "    }\n",
       "</style>\n",
       "<table border=\"1\" class=\"dataframe\">\n",
       "  <thead>\n",
       "    <tr style=\"text-align: right;\">\n",
       "      <th></th>\n",
       "      <th>Accident_Severity</th>\n",
       "      <th>Day_of_Week</th>\n",
       "      <th>Sex_of_Driver</th>\n",
       "      <th>Age_of_Driver</th>\n",
       "    </tr>\n",
       "  </thead>\n",
       "  <tbody>\n",
       "    <tr>\n",
       "      <th>Accident_Severity</th>\n",
       "      <td>1.000000</td>\n",
       "      <td>0.003154</td>\n",
       "      <td>0.086339</td>\n",
       "      <td>-0.031414</td>\n",
       "    </tr>\n",
       "    <tr>\n",
       "      <th>Day_of_Week</th>\n",
       "      <td>0.003154</td>\n",
       "      <td>1.000000</td>\n",
       "      <td>0.003534</td>\n",
       "      <td>-0.001479</td>\n",
       "    </tr>\n",
       "    <tr>\n",
       "      <th>Sex_of_Driver</th>\n",
       "      <td>0.086339</td>\n",
       "      <td>0.003534</td>\n",
       "      <td>1.000000</td>\n",
       "      <td>-0.014713</td>\n",
       "    </tr>\n",
       "    <tr>\n",
       "      <th>Age_of_Driver</th>\n",
       "      <td>-0.031414</td>\n",
       "      <td>-0.001479</td>\n",
       "      <td>-0.014713</td>\n",
       "      <td>1.000000</td>\n",
       "    </tr>\n",
       "  </tbody>\n",
       "</table>\n",
       "</div>"
      ],
      "text/plain": [
       "                   Accident_Severity  Day_of_Week  Sex_of_Driver  \\\n",
       "Accident_Severity           1.000000     0.003154       0.086339   \n",
       "Day_of_Week                 0.003154     1.000000       0.003534   \n",
       "Sex_of_Driver               0.086339     0.003534       1.000000   \n",
       "Age_of_Driver              -0.031414    -0.001479      -0.014713   \n",
       "\n",
       "                   Age_of_Driver  \n",
       "Accident_Severity      -0.031414  \n",
       "Day_of_Week            -0.001479  \n",
       "Sex_of_Driver          -0.014713  \n",
       "Age_of_Driver           1.000000  "
      ]
     },
     "execution_count": 46,
     "metadata": {},
     "output_type": "execute_result"
    }
   ],
   "source": [
    "factors = test[[\"Accident_Severity\", \"Day_of_Week\", \"Sex_of_Driver\", \"Age_of_Driver\"]]\n",
    "corr_table = factors.corr()\n",
    "corr_table"
   ]
  },
  {
   "cell_type": "code",
   "execution_count": 47,
   "metadata": {},
   "outputs": [
    {
     "data": {
      "image/png": "[encoded data removed]",
      "text/plain": [
       "<Figure size 432x288 with 2 Axes>"
      ]
     },
     "metadata": {
      "needs_background": "light"
     },
     "output_type": "display_data"
    }
   ],
   "source": [
    "p = sns.heatmap(corr_table,\n",
    "                xticklabels=corr_table.columns, yticklabels=corr_table.columns,\n",
    "                vmin=-1, vmax=1, \n",
    "                cmap='coolwarm', \n",
    "                square=True)   "
   ]
  },
  {
   "cell_type": "markdown",
   "metadata": {},
   "source": [
    "8. Vytvorte dátovú množinu, v ktorej nahradíte všetky nominálne atribúty za číselné alebo binárne. (3b)"
   ]
  },
  {
   "cell_type": "code",
   "execution_count": 48,
   "metadata": {},
   "outputs": [
    {
     "name": "stdout",
     "output_type": "stream",
     "text": [
      "<class 'pandas.core.frame.DataFrame'>\n",
      "Int64Index: 79382 entries, 0 to 79381\n",
      "Data columns (total 14 columns):\n",
      "Accident_Severity          79382 non-null int64\n",
      "Day_of_Week                79382 non-null int64\n",
      "1st_Road_Class             79382 non-null int64\n",
      "Road_Type                  79382 non-null int64\n",
      "Light_Conditions           79382 non-null int64\n",
      "Weather_Conditions         79382 non-null int64\n",
      "Road_Surface_Conditions    79382 non-null float64\n",
      "Urban_or_Rural_Area        79382 non-null int64\n",
      "Vehicle_Type               79382 non-null float64\n",
      "Sex_of_Driver              79382 non-null float64\n",
      "Age_of_Driver              79382 non-null float64\n",
      "Engine_Capacity_(CC)       79382 non-null float64\n",
      "Age_of_Vehicle             79382 non-null float64\n",
      "Age_ordinal                79382 non-null category\n",
      "dtypes: category(1), float64(6), int64(7)\n",
      "memory usage: 8.6 MB\n"
     ]
    }
   ],
   "source": [
    "test.info()\n",
    "#test.isna().sum()"
   ]
  },
  {
   "cell_type": "code",
   "execution_count": 49,
   "metadata": {},
   "outputs": [
    {
     "data": {
      "text/plain": [
       "(79382, 53)"
      ]
     },
     "execution_count": 49,
     "metadata": {},
     "output_type": "execute_result"
    }
   ],
   "source": [
    "Accidents.shape"
   ]
  },
  {
   "cell_type": "code",
   "execution_count": 119,
   "metadata": {},
   "outputs": [
    {
     "data": {
      "text/plain": [
       "(79382, 13)"
      ]
     },
     "execution_count": 119,
     "metadata": {},
     "output_type": "execute_result"
    }
   ],
   "source": [
    "from sklearn.preprocessing import MinMaxScaler \n",
    "scaler = MinMaxScaler() \n",
    "Accidents_1 =  test.drop('Age_ordinal', axis=1)\n",
    "Accidents_1 = pd.DataFrame(scaler.fit_transform(Accidents_1), index=Accidents_1.index, columns=Accidents_1.columns)\n",
    "Accidents_1.shape"
   ]
  },
  {
   "cell_type": "code",
   "execution_count": 121,
   "metadata": {},
   "outputs": [],
   "source": [
    "Accidents_1 = pd.get_dummies(test, columns=['1st_Road_Class', 'Road_Type', 'Light_Conditions', 'Weather_Conditions', 'Road_Surface_Conditions', 'Urban_or_Rural_Area', 'Vehicle_Type']) "
   ]
  },
  {
   "cell_type": "code",
   "execution_count": 122,
   "metadata": {},
   "outputs": [
    {
     "data": {
      "text/html": [
       "<div>\n",
       "<style scoped>\n",
       "    .dataframe tbody tr th:only-of-type {\n",
       "        vertical-align: middle;\n",
       "    }\n",
       "\n",
       "    .dataframe tbody tr th {\n",
       "        vertical-align: top;\n",
       "    }\n",
       "\n",
       "    .dataframe thead th {\n",
       "        text-align: right;\n",
       "    }\n",
       "</style>\n",
       "<table border=\"1\" class=\"dataframe\">\n",
       "  <thead>\n",
       "    <tr style=\"text-align: right;\">\n",
       "      <th></th>\n",
       "      <th>Accident_Severity</th>\n",
       "      <th>Day_of_Week</th>\n",
       "      <th>Sex_of_Driver</th>\n",
       "      <th>Age_of_Driver</th>\n",
       "      <th>Engine_Capacity_(CC)</th>\n",
       "      <th>Age_of_Vehicle</th>\n",
       "      <th>Age_ordinal</th>\n",
       "      <th>1st_Road_Class_1</th>\n",
       "      <th>1st_Road_Class_2</th>\n",
       "      <th>1st_Road_Class_3</th>\n",
       "      <th>...</th>\n",
       "      <th>Vehicle_Type_9.0</th>\n",
       "      <th>Vehicle_Type_10.0</th>\n",
       "      <th>Vehicle_Type_11.0</th>\n",
       "      <th>Vehicle_Type_16.0</th>\n",
       "      <th>Vehicle_Type_17.0</th>\n",
       "      <th>Vehicle_Type_18.0</th>\n",
       "      <th>Vehicle_Type_19.0</th>\n",
       "      <th>Vehicle_Type_20.0</th>\n",
       "      <th>Vehicle_Type_21.0</th>\n",
       "      <th>Vehicle_Type_90.0</th>\n",
       "    </tr>\n",
       "  </thead>\n",
       "  <tbody>\n",
       "    <tr>\n",
       "      <th>0</th>\n",
       "      <td>3</td>\n",
       "      <td>2</td>\n",
       "      <td>1.0</td>\n",
       "      <td>36.0</td>\n",
       "      <td>1597.0</td>\n",
       "      <td>6.0</td>\n",
       "      <td>Middle Adulthood</td>\n",
       "      <td>0</td>\n",
       "      <td>0</td>\n",
       "      <td>0</td>\n",
       "      <td>...</td>\n",
       "      <td>1</td>\n",
       "      <td>0</td>\n",
       "      <td>0</td>\n",
       "      <td>0</td>\n",
       "      <td>0</td>\n",
       "      <td>0</td>\n",
       "      <td>0</td>\n",
       "      <td>0</td>\n",
       "      <td>0</td>\n",
       "      <td>0</td>\n",
       "    </tr>\n",
       "    <tr>\n",
       "      <th>1</th>\n",
       "      <td>3</td>\n",
       "      <td>2</td>\n",
       "      <td>1.0</td>\n",
       "      <td>26.0</td>\n",
       "      <td>1597.0</td>\n",
       "      <td>6.0</td>\n",
       "      <td>Early adulthood</td>\n",
       "      <td>0</td>\n",
       "      <td>0</td>\n",
       "      <td>0</td>\n",
       "      <td>...</td>\n",
       "      <td>0</td>\n",
       "      <td>0</td>\n",
       "      <td>0</td>\n",
       "      <td>0</td>\n",
       "      <td>0</td>\n",
       "      <td>0</td>\n",
       "      <td>0</td>\n",
       "      <td>0</td>\n",
       "      <td>0</td>\n",
       "      <td>0</td>\n",
       "    </tr>\n",
       "    <tr>\n",
       "      <th>2</th>\n",
       "      <td>3</td>\n",
       "      <td>5</td>\n",
       "      <td>2.0</td>\n",
       "      <td>72.0</td>\n",
       "      <td>998.0</td>\n",
       "      <td>5.0</td>\n",
       "      <td>Late Adulthood</td>\n",
       "      <td>1</td>\n",
       "      <td>0</td>\n",
       "      <td>0</td>\n",
       "      <td>...</td>\n",
       "      <td>1</td>\n",
       "      <td>0</td>\n",
       "      <td>0</td>\n",
       "      <td>0</td>\n",
       "      <td>0</td>\n",
       "      <td>0</td>\n",
       "      <td>0</td>\n",
       "      <td>0</td>\n",
       "      <td>0</td>\n",
       "      <td>0</td>\n",
       "    </tr>\n",
       "    <tr>\n",
       "      <th>3</th>\n",
       "      <td>3</td>\n",
       "      <td>5</td>\n",
       "      <td>2.0</td>\n",
       "      <td>44.0</td>\n",
       "      <td>1461.0</td>\n",
       "      <td>1.0</td>\n",
       "      <td>Late Adulthood</td>\n",
       "      <td>1</td>\n",
       "      <td>0</td>\n",
       "      <td>0</td>\n",
       "      <td>...</td>\n",
       "      <td>1</td>\n",
       "      <td>0</td>\n",
       "      <td>0</td>\n",
       "      <td>0</td>\n",
       "      <td>0</td>\n",
       "      <td>0</td>\n",
       "      <td>0</td>\n",
       "      <td>0</td>\n",
       "      <td>0</td>\n",
       "      <td>0</td>\n",
       "    </tr>\n",
       "    <tr>\n",
       "      <th>4</th>\n",
       "      <td>3</td>\n",
       "      <td>5</td>\n",
       "      <td>1.0</td>\n",
       "      <td>40.0</td>\n",
       "      <td>2461.0</td>\n",
       "      <td>1.0</td>\n",
       "      <td>Middle Adulthood</td>\n",
       "      <td>1</td>\n",
       "      <td>0</td>\n",
       "      <td>0</td>\n",
       "      <td>...</td>\n",
       "      <td>0</td>\n",
       "      <td>0</td>\n",
       "      <td>0</td>\n",
       "      <td>0</td>\n",
       "      <td>0</td>\n",
       "      <td>0</td>\n",
       "      <td>1</td>\n",
       "      <td>0</td>\n",
       "      <td>0</td>\n",
       "      <td>0</td>\n",
       "    </tr>\n",
       "  </tbody>\n",
       "</table>\n",
       "<p>5 rows × 57 columns</p>\n",
       "</div>"
      ],
      "text/plain": [
       "   Accident_Severity  Day_of_Week  Sex_of_Driver  Age_of_Driver  \\\n",
       "0                  3            2            1.0           36.0   \n",
       "1                  3            2            1.0           26.0   \n",
       "2                  3            5            2.0           72.0   \n",
       "3                  3            5            2.0           44.0   \n",
       "4                  3            5            1.0           40.0   \n",
       "\n",
       "   Engine_Capacity_(CC)  Age_of_Vehicle       Age_ordinal  1st_Road_Class_1  \\\n",
       "0                1597.0             6.0  Middle Adulthood                 0   \n",
       "1                1597.0             6.0   Early adulthood                 0   \n",
       "2                 998.0             5.0    Late Adulthood                 1   \n",
       "3                1461.0             1.0    Late Adulthood                 1   \n",
       "4                2461.0             1.0  Middle Adulthood                 1   \n",
       "\n",
       "   1st_Road_Class_2  1st_Road_Class_3  ...  Vehicle_Type_9.0  \\\n",
       "0                 0                 0  ...                 1   \n",
       "1                 0                 0  ...                 0   \n",
       "2                 0                 0  ...                 1   \n",
       "3                 0                 0  ...                 1   \n",
       "4                 0                 0  ...                 0   \n",
       "\n",
       "   Vehicle_Type_10.0  Vehicle_Type_11.0  Vehicle_Type_16.0  Vehicle_Type_17.0  \\\n",
       "0                  0                  0                  0                  0   \n",
       "1                  0                  0                  0                  0   \n",
       "2                  0                  0                  0                  0   \n",
       "3                  0                  0                  0                  0   \n",
       "4                  0                  0                  0                  0   \n",
       "\n",
       "   Vehicle_Type_18.0  Vehicle_Type_19.0  Vehicle_Type_20.0  Vehicle_Type_21.0  \\\n",
       "0                  0                  0                  0                  0   \n",
       "1                  0                  0                  0                  0   \n",
       "2                  0                  0                  0                  0   \n",
       "3                  0                  0                  0                  0   \n",
       "4                  0                  1                  0                  0   \n",
       "\n",
       "   Vehicle_Type_90.0  \n",
       "0                  0  \n",
       "1                  0  \n",
       "2                  0  \n",
       "3                  0  \n",
       "4                  0  \n",
       "\n",
       "[5 rows x 57 columns]"
      ]
     },
     "execution_count": 122,
     "metadata": {},
     "output_type": "execute_result"
    }
   ],
   "source": [
    "Accidents_1.head()"
   ]
  },
  {
   "cell_type": "markdown",
   "metadata": {},
   "source": [
    "9. Rozdeľte dáta na trénovaciu a testovaciu množinu v pomere 70/30. Ako cieľový atribút použite atribút `Accident_Severity`. (2b)"
   ]
  },
  {
   "cell_type": "code",
   "execution_count": 53,
   "metadata": {},
   "outputs": [
    {
     "data": {
      "text/plain": [
       "(79382, 55)"
      ]
     },
     "execution_count": 53,
     "metadata": {},
     "output_type": "execute_result"
    }
   ],
   "source": [
    "from sklearn.model_selection import train_test_split\n",
    "X_Accidents_1 = Accidents_1.drop(['Accident_Severity', 'Age_ordinal'], axis=1 )\n",
    "X_Accidents_1.shape"
   ]
  },
  {
   "cell_type": "code",
   "execution_count": 54,
   "metadata": {},
   "outputs": [
    {
     "data": {
      "text/plain": [
       "(79382,)"
      ]
     },
     "execution_count": 54,
     "metadata": {},
     "output_type": "execute_result"
    }
   ],
   "source": [
    "y_Accidents_1 = Accidents[\"Accident_Severity\"]\n",
    "y_Accidents_1.shape"
   ]
  },
  {
   "cell_type": "code",
   "execution_count": 55,
   "metadata": {},
   "outputs": [],
   "source": [
    "X_train, X_test, y_train, y_test = train_test_split(X_Accidents_1, y_Accidents_1, test_size=0.3, random_state=1)"
   ]
  },
  {
   "cell_type": "markdown",
   "metadata": {},
   "source": [
    "10. Spočítajte pomocou funkcie `SelectKBest` a `mutual_score_info` významosti jednotlivých atribútov pre predikciu v trénovacej množine. Skúste získané informácie využiť pri predspracovaní dát pre niektoré z modelov. (3b)"
   ]
  },
  {
   "cell_type": "code",
   "execution_count": 56,
   "metadata": {},
   "outputs": [
    {
     "data": {
      "text/plain": [
       "SelectKBest(k='all',\n",
       "            score_func=<function mutual_info_classif at 0x00000219B8941840>)"
      ]
     },
     "execution_count": 56,
     "metadata": {},
     "output_type": "execute_result"
    }
   ],
   "source": [
    "from sklearn.feature_selection import SelectKBest, mutual_info_classif\n",
    "fs = SelectKBest(score_func=mutual_info_classif, k='all')\n",
    "fs.fit(X_train, y_train)"
   ]
  },
  {
   "cell_type": "code",
   "execution_count": 194,
   "metadata": {},
   "outputs": [
    {
     "name": "stdout",
     "output_type": "stream",
     "text": [
      "Atribut 0: 0.002238\n",
      "Atribut 1: 0.007463\n",
      "Atribut 2: 0.004631\n",
      "Atribut 3: 0.016738\n",
      "Atribut 4: 0.000000\n",
      "Atribut 5: 0.005326\n",
      "Atribut 6: 0.000753\n",
      "Atribut 7: 0.000000\n",
      "Atribut 8: 0.003275\n",
      "Atribut 9: 0.000000\n",
      "Atribut 10: 0.002786\n",
      "Atribut 11: 0.004299\n",
      "Atribut 12: 0.000000\n",
      "Atribut 13: 0.003446\n",
      "Atribut 14: 0.004290\n",
      "Atribut 15: 0.000000\n",
      "Atribut 16: 0.002047\n",
      "Atribut 17: 0.005106\n",
      "Atribut 18: 0.001578\n",
      "Atribut 19: 0.001762\n",
      "Atribut 20: 0.012997\n",
      "Atribut 21: 0.000000\n",
      "Atribut 22: 0.003223\n",
      "Atribut 23: 0.001802\n",
      "Atribut 24: 0.002392\n",
      "Atribut 25: 0.000258\n",
      "Atribut 26: 0.002258\n",
      "Atribut 27: 0.000000\n",
      "Atribut 28: 0.000000\n",
      "Atribut 29: 0.000000\n",
      "Atribut 30: 0.000882\n",
      "Atribut 31: 0.001715\n",
      "Atribut 32: 0.001921\n",
      "Atribut 33: 0.000973\n",
      "Atribut 34: 0.000539\n",
      "Atribut 35: 0.000756\n",
      "Atribut 36: 0.018429\n",
      "Atribut 37: 0.018985\n",
      "Atribut 38: 0.000000\n",
      "Atribut 39: 0.001448\n",
      "Atribut 40: 0.000000\n",
      "Atribut 41: 0.004210\n",
      "Atribut 42: 0.001033\n",
      "Atribut 43: 0.005186\n",
      "Atribut 44: 0.002378\n",
      "Atribut 45: 0.010770\n",
      "Atribut 46: 0.003268\n",
      "Atribut 47: 0.000000\n",
      "Atribut 48: 0.000730\n",
      "Atribut 49: 0.002646\n",
      "Atribut 50: 0.000000\n",
      "Atribut 51: 0.000000\n",
      "Atribut 52: 0.000000\n",
      "Atribut 53: 0.001020\n",
      "Atribut 54: 0.001620\n"
     ]
    },
    {
     "data": {
      "image/png": "[encoded data removed]",
      "text/plain": [
       "<Figure size 432x288 with 1 Axes>"
      ]
     },
     "metadata": {
      "needs_background": "light"
     },
     "output_type": "display_data"
    }
   ],
   "source": [
    "import matplotlib.pyplot as plt\n",
    "for i in range(len(fs.scores_)):\n",
    "\tprint('Atribut %d: %f' % (i, fs.scores_[i]))\n",
    "    \n",
    "    \n",
    "plt.bar([i for i in range(len(fs.scores_))], fs.scores_)\n",
    "plt.show()"
   ]
  },
  {
   "cell_type": "markdown",
   "metadata": {},
   "source": [
    "11. Natrénujte rôzne klasifikačné modely pre predikciu atribútu `Accident_Severity`. Natrénujte nasledovné modely s prednastavenými parametrami:\n",
    "* k-najbližších susedov\n",
    "* Rozhodovacie stromy\n",
    "* Random forests\n",
    "\n",
    "Jednotlivé modely otestujte pomocou 10-násobnej krížovej validácie pomocou metriky `accuracy`. \n",
    "\n",
    "Pozor - pre jednotlivé modely zvoľte vhodný spôsob predspracovania (možná modifikácia predspracovania v kroku 8). (6b) "
   ]
  },
  {
   "cell_type": "markdown",
   "metadata": {},
   "source": [
    "## KNN"
   ]
  },
  {
   "cell_type": "code",
   "execution_count": 57,
   "metadata": {},
   "outputs": [
    {
     "name": "stdout",
     "output_type": "stream",
     "text": [
      "{'n_neighbors': [1, 2, 3, 4, 5, 6, 7, 8, 9, 10], 'weights': ['uniform', 'distance'], 'metric': ['euclidean', 'manhattan']}\n"
     ]
    }
   ],
   "source": [
    "from sklearn.model_selection import GridSearchCV \n",
    "from sklearn.neighbors import KNeighborsClassifier \n",
    "knn = KNeighborsClassifier() \n",
    "k_range = list(range(1, 11))\n",
    "weights_range = [\"uniform\", \"distance\"]\n",
    "metric_range = [\"euclidean\", \"manhattan\"]\n",
    "param_grid = dict(n_neighbors=k_range, weights=weights_range, metric=metric_range)\n",
    "print(param_grid)"
   ]
  },
  {
   "cell_type": "code",
   "execution_count": 207,
   "metadata": {},
   "outputs": [
    {
     "data": {
      "text/plain": [
       "GridSearchCV(cv=10, error_score='raise-deprecating',\n",
       "             estimator=KNeighborsClassifier(algorithm='auto', leaf_size=30,\n",
       "                                            metric='minkowski',\n",
       "                                            metric_params=None, n_jobs=None,\n",
       "                                            n_neighbors=5, p=2,\n",
       "                                            weights='uniform'),\n",
       "             iid='warn', n_jobs=None,\n",
       "             param_grid={'metric': ['euclidean', 'manhattan'],\n",
       "                         'n_neighbors': [1, 2, 3, 4, 5, 6, 7, 8, 9, 10],\n",
       "                         'weights': ['uniform', 'distance']},\n",
       "             pre_dispatch='2*n_jobs', refit=True, return_train_score=False,\n",
       "             scoring='accuracy', verbose=0)"
      ]
     },
     "execution_count": 207,
     "metadata": {},
     "output_type": "execute_result"
    }
   ],
   "source": [
    "grid = GridSearchCV(estimator=knn, param_grid=param_grid, cv=10, scoring='accuracy') \n",
    "grid.fit(X_train, y_train) "
   ]
  },
  {
   "cell_type": "code",
   "execution_count": 208,
   "metadata": {},
   "outputs": [
    {
     "name": "stdout",
     "output_type": "stream",
     "text": [
      "Najlepšie parametre sú:\n",
      "\n",
      "{'metric': 'manhattan', 'n_neighbors': 10, 'weights': 'uniform'}\n",
      "\n",
      "0.5227203196141594\n"
     ]
    }
   ],
   "source": [
    "print(\"Najlepšie parametre sú:\")\n",
    "print()\n",
    "print(grid.best_params_)\n",
    "print()\n",
    "print(grid.best_score_)"
   ]
  },
  {
   "cell_type": "code",
   "execution_count": 65,
   "metadata": {},
   "outputs": [],
   "source": [
    "knn = KNeighborsClassifier(n_neighbors=10, weights='uniform',metric='manhattan') \n",
    "knn.fit(X_train, y_train)                 \n",
    "y_knn = knn.predict(X_test)  "
   ]
  },
  {
   "cell_type": "code",
   "execution_count": 66,
   "metadata": {},
   "outputs": [
    {
     "ename": "NameError",
     "evalue": "name 'y_model' is not defined",
     "output_type": "error",
     "traceback": [
      "\u001b[1;31m---------------------------------------------------------------------------\u001b[0m",
      "\u001b[1;31mNameError\u001b[0m                                 Traceback (most recent call last)",
      "\u001b[1;32m<ipython-input-66-7ae9930c7d6c>\u001b[0m in \u001b[0;36m<module>\u001b[1;34m\u001b[0m\n\u001b[1;32m----> 1\u001b[1;33m \u001b[0mprint\u001b[0m\u001b[1;33m(\u001b[0m\u001b[1;34mf\"Presnosť (accuracy) modelu: {accuracy_score(y_test, y_model)}\"\u001b[0m\u001b[1;33m)\u001b[0m\u001b[1;33m\u001b[0m\u001b[1;33m\u001b[0m\u001b[0m\n\u001b[0m\u001b[0;32m      2\u001b[0m \u001b[0mprint\u001b[0m\u001b[1;33m(\u001b[0m\u001b[1;34mf\"Presnosť (precision) modelu: {precision_score(y_test, y_model)}\"\u001b[0m\u001b[1;33m)\u001b[0m\u001b[1;33m\u001b[0m\u001b[1;33m\u001b[0m\u001b[0m\n\u001b[0;32m      3\u001b[0m \u001b[0mprint\u001b[0m\u001b[1;33m(\u001b[0m\u001b[1;34mf\"Návratnosť (recall) modelu: {recall_score(y_test, y_model)}\"\u001b[0m\u001b[1;33m)\u001b[0m\u001b[1;33m\u001b[0m\u001b[1;33m\u001b[0m\u001b[0m\n",
      "\u001b[1;31mNameError\u001b[0m: name 'y_model' is not defined"
     ]
    }
   ],
   "source": [
    "print(f\"Presnosť (accuracy) modelu: {accuracy_score(y_test, y_model)}\")\n",
    "print(f\"Presnosť (precision) modelu: {precision_score(y_test, y_model)}\")\n",
    "print(f\"Návratnosť (recall) modelu: {recall_score(y_test, y_model)}\")"
   ]
  },
  {
   "cell_type": "markdown",
   "metadata": {},
   "source": [
    "## Decision Tree"
   ]
  },
  {
   "cell_type": "code",
   "execution_count": 72,
   "metadata": {},
   "outputs": [
    {
     "name": "stdout",
     "output_type": "stream",
     "text": [
      "Presnosť (accuracy) modelu: 0.4840226747847995\n",
      "Presnosť (precision) modelu: [0.12266227 0.55297178 0.46063796]\n",
      "Návratnosť (recall) modelu: [0.14966443 0.55683442 0.4409376 ]\n",
      "[[ 223  806  461]\n",
      " [1022 7015 4561]\n",
      " [ 573 4865 4289]]\n"
     ]
    }
   ],
   "source": [
    "from sklearn.tree import DecisionTreeClassifier\n",
    "from sklearn.metrics import confusion_matrix\n",
    "\n",
    "dt = DecisionTreeClassifier()  \n",
    "dt.fit(X_train, y_train)  \n",
    "y_dt = dt.predict(X_test)      \n",
    "\n",
    "from sklearn.metrics import accuracy_score,precision_score, recall_score\n",
    "\n",
    "print(f\"Presnosť (accuracy) modelu: {accuracy_score(y_test, y_dt)}\")\n",
    "print(f\"Presnosť (precision) modelu: {precision_score(y_test, y_dt, average=None)}\")\n",
    "print(f\"Návratnosť (recall) modelu: {recall_score(y_test, y_dt, average=None)}\")\n",
    "\n",
    "cm = confusion_matrix(y_test, y_dt) \n",
    "print(cm)"
   ]
  },
  {
   "cell_type": "code",
   "execution_count": 85,
   "metadata": {},
   "outputs": [],
   "source": [
    "criterion_range = [\"gini\", \"entropy\"]\n",
    "maxdepth_range = [1, 2, 3, 4, 5, 6, 7, 8, 9, 10]\n",
    "minsample_split_range = [2, 4, 6, 8, 10]\n",
    "minsample_leaf_range = [1, 5, 10, 15]\n",
    "presort_range = [True, False]"
   ]
  },
  {
   "cell_type": "code",
   "execution_count": 86,
   "metadata": {},
   "outputs": [
    {
     "name": "stdout",
     "output_type": "stream",
     "text": [
      "{'criterion': ['gini', 'entropy'], 'max_depth': [1, 2, 3, 4, 5, 6, 7, 8, 9, 10], 'min_samples_split': [2, 4, 6, 8, 10], 'min_samples_leaf': [1, 5, 10, 15], 'presort': [True, False]}\n"
     ]
    }
   ],
   "source": [
    "param_grid = dict(criterion=criterion_range, max_depth=maxdepth_range, min_samples_split=minsample_split_range, min_samples_leaf=minsample_leaf_range, presort=presort_range)\n",
    "print(param_grid)"
   ]
  },
  {
   "cell_type": "code",
   "execution_count": 87,
   "metadata": {},
   "outputs": [
    {
     "data": {
      "text/plain": [
       "GridSearchCV(cv=10, error_score='raise-deprecating',\n",
       "             estimator=DecisionTreeClassifier(class_weight=None,\n",
       "                                              criterion='gini', max_depth=None,\n",
       "                                              max_features=None,\n",
       "                                              max_leaf_nodes=None,\n",
       "                                              min_impurity_decrease=0.0,\n",
       "                                              min_impurity_split=None,\n",
       "                                              min_samples_leaf=1,\n",
       "                                              min_samples_split=2,\n",
       "                                              min_weight_fraction_leaf=0.0,\n",
       "                                              presort=False, random_state=None,\n",
       "                                              splitter='best'),\n",
       "             iid='warn', n_jobs=None,\n",
       "             param_grid={'criterion': ['gini', 'entropy'],\n",
       "                         'max_depth': [1, 2, 3, 4, 5, 6, 7, 8, 9, 10],\n",
       "                         'min_samples_leaf': [1, 5, 10, 15],\n",
       "                         'min_samples_split': [2, 4, 6, 8, 10],\n",
       "                         'presort': [True, False]},\n",
       "             pre_dispatch='2*n_jobs', refit=True, return_train_score=False,\n",
       "             scoring='accuracy', verbose=0)"
      ]
     },
     "execution_count": 87,
     "metadata": {},
     "output_type": "execute_result"
    }
   ],
   "source": [
    "from sklearn.model_selection import GridSearchCV\n",
    "grid = GridSearchCV(estimator=dt, param_grid=param_grid, cv=10, scoring='accuracy') \n",
    "grid.fit(X_train, y_train) "
   ]
  },
  {
   "cell_type": "code",
   "execution_count": 88,
   "metadata": {},
   "outputs": [
    {
     "name": "stdout",
     "output_type": "stream",
     "text": [
      "Najlepšie parametre sú:\n",
      "\n",
      "{'criterion': 'gini', 'max_depth': 7, 'min_samples_leaf': 10, 'min_samples_split': 2, 'presort': True}\n",
      "\n",
      "0.5617722749113683\n"
     ]
    }
   ],
   "source": [
    "print(\"Najlepšie parametre sú:\")\n",
    "print()\n",
    "print(grid.best_params_)\n",
    "print()\n",
    "print(grid.best_score_)"
   ]
  },
  {
   "cell_type": "code",
   "execution_count": 90,
   "metadata": {},
   "outputs": [
    {
     "name": "stdout",
     "output_type": "stream",
     "text": [
      "Presnosť (accuracy) modelu: 0.567457484778501\n",
      "Presnosť (precision) modelu: [0.13043478 0.57948197 0.54514925]\n",
      "Návratnosť (recall) modelu: [0.00201342 0.72455945 0.45060142]\n",
      "[[   3 1284  203]\n",
      " [  16 9128 3454]\n",
      " [   4 5340 4383]]\n"
     ]
    }
   ],
   "source": [
    "from sklearn.tree import DecisionTreeClassifier \n",
    "from sklearn.metrics import confusion_matrix\n",
    "\n",
    "dt = DecisionTreeClassifier(max_depth=7, criterion='gini', min_samples_leaf=10, min_samples_split=2, presort=True)\n",
    "dt.fit(X_train, y_train)         \n",
    "y_dt = dt.predict(X_test)       \n",
    "\n",
    "from sklearn.metrics import accuracy_score,precision_score, recall_score \n",
    "\n",
    "print(f\"Presnosť (accuracy) modelu: {accuracy_score(y_test, y_dt)}\")\n",
    "print(f\"Presnosť (precision) modelu: {precision_score(y_test, y_dt, average=None)}\")\n",
    "print(f\"Návratnosť (recall) modelu: {recall_score(y_test, y_dt, average=None)}\")\n",
    "\n",
    "cm = confusion_matrix(y_test, y_dt) \n",
    "print(cm)"
   ]
  },
  {
   "cell_type": "markdown",
   "metadata": {},
   "source": [
    "## Random Tree"
   ]
  },
  {
   "cell_type": "code",
   "execution_count": 91,
   "metadata": {},
   "outputs": [],
   "source": [
    "from sklearn.ensemble import RandomForestClassifier\n",
    "from sklearn.metrics import accuracy_score, confusion_matrix\n",
    "rf = RandomForestClassifier"
   ]
  },
  {
   "cell_type": "code",
   "execution_count": 97,
   "metadata": {},
   "outputs": [
    {
     "name": "stdout",
     "output_type": "stream",
     "text": [
      "{'criterion': ['gini', 'entropy'], 'max_depth': [3, 4, 5, 6], 'n_estimators': [100, 500, 1000], 'oob_score': [True, False]}\n"
     ]
    }
   ],
   "source": [
    "n_estimators_range = [100, 500, 1000]\n",
    "#bootstrap_range = [True, False]\n",
    "oob_score_range = [True, False]\n",
    "criterion_range = [\"gini\", \"entropy\"]\n",
    "max_depth_range = [3, 4, 5, 6]\n",
    "param_grid = dict(criterion=criterion_range, max_depth=max_depth_range, n_estimators=n_estimators_range, oob_score=oob_score_range)\n",
    "print(param_grid)"
   ]
  },
  {
   "cell_type": "code",
   "execution_count": 99,
   "metadata": {},
   "outputs": [
    {
     "data": {
      "text/plain": [
       "GridSearchCV(cv=10, error_score='raise-deprecating',\n",
       "             estimator=RandomForestClassifier(bootstrap=True, class_weight=None,\n",
       "                                              criterion='gini', max_depth=None,\n",
       "                                              max_features='auto',\n",
       "                                              max_leaf_nodes=None,\n",
       "                                              min_impurity_decrease=0.0,\n",
       "                                              min_impurity_split=None,\n",
       "                                              min_samples_leaf=1,\n",
       "                                              min_samples_split=2,\n",
       "                                              min_weight_fraction_leaf=0.0,\n",
       "                                              n_estimators=10, n_jobs=None,\n",
       "                                              oob_score=False,\n",
       "                                              random_state=None, verbose=0,\n",
       "                                              warm_start=False),\n",
       "             iid='warn', n_jobs=None,\n",
       "             param_grid={'criterion': ['gini', 'entropy'],\n",
       "                         'max_depth': [3, 4, 5, 6],\n",
       "                         'n_estimators': [100, 500, 1000],\n",
       "                         'oob_score': [True, False]},\n",
       "             pre_dispatch='2*n_jobs', refit=True, return_train_score=False,\n",
       "             scoring='accuracy', verbose=0)"
      ]
     },
     "execution_count": 99,
     "metadata": {},
     "output_type": "execute_result"
    }
   ],
   "source": [
    "from sklearn.model_selection import GridSearchCV\n",
    "grid = GridSearchCV(estimator=rf, param_grid=param_grid, cv=10, scoring='accuracy') \n",
    "grid.fit(X_train, y_train)"
   ]
  },
  {
   "cell_type": "code",
   "execution_count": 100,
   "metadata": {},
   "outputs": [
    {
     "name": "stdout",
     "output_type": "stream",
     "text": [
      "Najlepšie parametre sú:\n",
      "\n",
      "{'criterion': 'gini', 'max_depth': 6, 'n_estimators': 500, 'oob_score': False}\n",
      "\n",
      "0.5617002897403135\n"
     ]
    }
   ],
   "source": [
    "print(\"Najlepšie parametre sú:\")\n",
    "print()\n",
    "print(grid.best_params_)\n",
    "print()\n",
    "print(grid.best_score_)"
   ]
  },
  {
   "cell_type": "code",
   "execution_count": 107,
   "metadata": {},
   "outputs": [
    {
     "name": "stdout",
     "output_type": "stream",
     "text": [
      "Presnosť (accuracy) modelu: 0.5634684022674785\n",
      "Presnosť (precision) modelu: [0.         0.55767673 0.59159085]\n",
      "Návratnosť (recall) modelu: [0.         0.87418638 0.24735273]\n",
      "[[    0  1414    76]\n",
      " [    0 11013  1585]\n",
      " [    0  7321  2406]]\n"
     ]
    },
    {
     "name": "stderr",
     "output_type": "stream",
     "text": [
      "C:\\Program Files\\Anaconda3\\lib\\site-packages\\sklearn\\metrics\\classification.py:1437: UndefinedMetricWarning: Precision is ill-defined and being set to 0.0 in labels with no predicted samples.\n",
      "  'precision', 'predicted', average, warn_for)\n"
     ]
    }
   ],
   "source": [
    "rf = RandomForestClassifier(criterion='gini', max_depth=6, n_estimators=500, oob_score=False)\n",
    "rf.fit(X_train, y_train)\n",
    "y_rf = rf.predict(X_test)\n",
    "\n",
    "print(f\"Presnosť (accuracy) modelu: {accuracy_score(y_test, y_rf)}\")\n",
    "print(f\"Presnosť (precision) modelu: {precision_score(y_test, y_rf, average=None)}\")\n",
    "print(f\"Návratnosť (recall) modelu: {recall_score(y_test, y_rf, average=None)}\")\n",
    "cm = confusion_matrix(y_test, y_rf)\n",
    "print(cm)"
   ]
  },
  {
   "cell_type": "markdown",
   "metadata": {},
   "source": [
    "## Naive Bayes"
   ]
  },
  {
   "cell_type": "code",
   "execution_count": 108,
   "metadata": {},
   "outputs": [],
   "source": [
    "from sklearn.naive_bayes import GaussianNB\n",
    "gnb = GaussianNB()\n",
    "gnb.fit(X_train, y_train)\n",
    "y_gnb = gnb.predict(X_test)"
   ]
  },
  {
   "cell_type": "code",
   "execution_count": 109,
   "metadata": {},
   "outputs": [
    {
     "name": "stdout",
     "output_type": "stream",
     "text": [
      "Presnosť (accuracy) modelu: 0.4650430401007768\n",
      "[[ 510  460  520]\n",
      " [2091 3853 6654]\n",
      " [1237 1778 6712]]\n"
     ]
    }
   ],
   "source": [
    "print(f\"Presnosť (accuracy) modelu: {accuracy_score(y_test, y_gnb)}\")\n",
    "cm = confusion_matrix(y_test, y_gnb)\n",
    "print(cm)"
   ]
  },
  {
   "cell_type": "raw",
   "metadata": {},
   "source": [
    "12. Identifikujte model, ktorý dáva najlepšie výsledky s prednastavenými parametrami. V tomto kroku sa posnažte vyladiť model nájdením najvhodnejších parametrov pomocou `GridSearchCV`. Nájdite a vypíšte najlepšiu kombináciu parametrov. (4b)"
   ]
  },
  {
   "cell_type": "markdown",
   "metadata": {},
   "source": [
    "###### Najpresnejsi model je Decision Tree. "
   ]
  },
  {
   "cell_type": "markdown",
   "metadata": {},
   "source": [
    "13. Natrénujte na celej trénovacej množine model s najlepšími parametrami. Model otestujte na testovacej množine. Vyhodnoťte model pomocou metrík `accuracy`, `precision` a `recall`. Vypíšte preň `confusion matrix`. (3b)"
   ]
  },
  {
   "cell_type": "markdown",
   "metadata": {},
   "source": [
    "###### Done v casti Decision Tree."
   ]
  },
  {
   "cell_type": "code",
   "execution_count": null,
   "metadata": {},
   "outputs": [],
   "source": []
  }
 ],
 "metadata": {
  "kernelspec": {
   "display_name": "Python 3",
   "language": "python",
   "name": "python3"
  },
  "language_info": {
   "codemirror_mode": {
    "name": "ipython",
    "version": 3
   },
   "file_extension": ".py",
   "mimetype": "text/x-python",
   "name": "python",
   "nbconvert_exporter": "python",
   "pygments_lexer": "ipython3",
   "version": "3.7.3"
  }
 },
 "nbformat": 4,
 "nbformat_minor": 4
}
