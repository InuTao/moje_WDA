{
 "cells": [
  {
   "cell_type": "markdown",
   "metadata": {},
   "source": [
    "# Klasifikácia pomocou zložených modelov - Random Forests\n",
    "\n",
    "Random Forests predstavujú v súčasnosti jeden z najpoužívanejších klasifikačných modelov. Sciki-learn obsahuje implementáciu tohoto algoritmu v triede `RandomForestClassifier`. Tento klasifikátor sa používa rovnakým spôsobom, ako ostatné klasifikátory.\n",
    "\n",
    "Opäť načítame dáta ako v predošlých príkladoch. Tentoraz ale pre algoritmus Random Forests neodstránime redundantné atribúty a ponecháme aj nominálny atribút `Deck` (aj s chýbajúcimi hodnotami) a transformujeme ho pomocou One Hot Encoderu. "
   ]
  },
  {
   "cell_type": "code",
   "execution_count": 1,
   "metadata": {},
   "outputs": [
    {
     "data": {
      "text/html": [
       "<div>\n",
       "<style scoped>\n",
       "    .dataframe tbody tr th:only-of-type {\n",
       "        vertical-align: middle;\n",
       "    }\n",
       "\n",
       "    .dataframe tbody tr th {\n",
       "        vertical-align: top;\n",
       "    }\n",
       "\n",
       "    .dataframe thead th {\n",
       "        text-align: right;\n",
       "    }\n",
       "</style>\n",
       "<table border=\"1\" class=\"dataframe\">\n",
       "  <thead>\n",
       "    <tr style=\"text-align: right;\">\n",
       "      <th></th>\n",
       "      <th>pclass</th>\n",
       "      <th>survived</th>\n",
       "      <th>sex</th>\n",
       "      <th>age</th>\n",
       "      <th>sibsp</th>\n",
       "      <th>parch</th>\n",
       "      <th>fare</th>\n",
       "      <th>family</th>\n",
       "      <th>has_family</th>\n",
       "      <th>fare_ordinal</th>\n",
       "      <th>...</th>\n",
       "      <th>title_Master</th>\n",
       "      <th>title_Miss</th>\n",
       "      <th>title_Mlle</th>\n",
       "      <th>title_Mme</th>\n",
       "      <th>title_Mr</th>\n",
       "      <th>title_Mrs</th>\n",
       "      <th>title_Ms</th>\n",
       "      <th>title_Rev</th>\n",
       "      <th>title_Sir</th>\n",
       "      <th>title_the Countess</th>\n",
       "    </tr>\n",
       "  </thead>\n",
       "  <tbody>\n",
       "    <tr>\n",
       "      <td>0</td>\n",
       "      <td>1</td>\n",
       "      <td>1</td>\n",
       "      <td>1</td>\n",
       "      <td>29.00</td>\n",
       "      <td>0</td>\n",
       "      <td>0</td>\n",
       "      <td>211.3375</td>\n",
       "      <td>0</td>\n",
       "      <td>0</td>\n",
       "      <td>2</td>\n",
       "      <td>...</td>\n",
       "      <td>0</td>\n",
       "      <td>1</td>\n",
       "      <td>0</td>\n",
       "      <td>0</td>\n",
       "      <td>0</td>\n",
       "      <td>0</td>\n",
       "      <td>0</td>\n",
       "      <td>0</td>\n",
       "      <td>0</td>\n",
       "      <td>0</td>\n",
       "    </tr>\n",
       "    <tr>\n",
       "      <td>1</td>\n",
       "      <td>1</td>\n",
       "      <td>1</td>\n",
       "      <td>0</td>\n",
       "      <td>0.92</td>\n",
       "      <td>1</td>\n",
       "      <td>2</td>\n",
       "      <td>151.5500</td>\n",
       "      <td>3</td>\n",
       "      <td>1</td>\n",
       "      <td>2</td>\n",
       "      <td>...</td>\n",
       "      <td>1</td>\n",
       "      <td>0</td>\n",
       "      <td>0</td>\n",
       "      <td>0</td>\n",
       "      <td>0</td>\n",
       "      <td>0</td>\n",
       "      <td>0</td>\n",
       "      <td>0</td>\n",
       "      <td>0</td>\n",
       "      <td>0</td>\n",
       "    </tr>\n",
       "    <tr>\n",
       "      <td>2</td>\n",
       "      <td>1</td>\n",
       "      <td>0</td>\n",
       "      <td>1</td>\n",
       "      <td>2.00</td>\n",
       "      <td>1</td>\n",
       "      <td>2</td>\n",
       "      <td>151.5500</td>\n",
       "      <td>3</td>\n",
       "      <td>1</td>\n",
       "      <td>2</td>\n",
       "      <td>...</td>\n",
       "      <td>0</td>\n",
       "      <td>1</td>\n",
       "      <td>0</td>\n",
       "      <td>0</td>\n",
       "      <td>0</td>\n",
       "      <td>0</td>\n",
       "      <td>0</td>\n",
       "      <td>0</td>\n",
       "      <td>0</td>\n",
       "      <td>0</td>\n",
       "    </tr>\n",
       "    <tr>\n",
       "      <td>3</td>\n",
       "      <td>1</td>\n",
       "      <td>0</td>\n",
       "      <td>0</td>\n",
       "      <td>30.00</td>\n",
       "      <td>1</td>\n",
       "      <td>2</td>\n",
       "      <td>151.5500</td>\n",
       "      <td>3</td>\n",
       "      <td>1</td>\n",
       "      <td>2</td>\n",
       "      <td>...</td>\n",
       "      <td>0</td>\n",
       "      <td>0</td>\n",
       "      <td>0</td>\n",
       "      <td>0</td>\n",
       "      <td>1</td>\n",
       "      <td>0</td>\n",
       "      <td>0</td>\n",
       "      <td>0</td>\n",
       "      <td>0</td>\n",
       "      <td>0</td>\n",
       "    </tr>\n",
       "    <tr>\n",
       "      <td>4</td>\n",
       "      <td>1</td>\n",
       "      <td>0</td>\n",
       "      <td>1</td>\n",
       "      <td>25.00</td>\n",
       "      <td>1</td>\n",
       "      <td>2</td>\n",
       "      <td>151.5500</td>\n",
       "      <td>3</td>\n",
       "      <td>1</td>\n",
       "      <td>2</td>\n",
       "      <td>...</td>\n",
       "      <td>0</td>\n",
       "      <td>0</td>\n",
       "      <td>0</td>\n",
       "      <td>0</td>\n",
       "      <td>0</td>\n",
       "      <td>1</td>\n",
       "      <td>0</td>\n",
       "      <td>0</td>\n",
       "      <td>0</td>\n",
       "      <td>0</td>\n",
       "    </tr>\n",
       "  </tbody>\n",
       "</table>\n",
       "<p>5 rows × 44 columns</p>\n",
       "</div>"
      ],
      "text/plain": [
       "   pclass  survived  sex    age  sibsp  parch      fare  family  has_family  \\\n",
       "0       1         1    1  29.00      0      0  211.3375       0           0   \n",
       "1       1         1    0   0.92      1      2  151.5500       3           1   \n",
       "2       1         0    1   2.00      1      2  151.5500       3           1   \n",
       "3       1         0    0  30.00      1      2  151.5500       3           1   \n",
       "4       1         0    1  25.00      1      2  151.5500       3           1   \n",
       "\n",
       "   fare_ordinal  ...  title_Master  title_Miss  title_Mlle  title_Mme  \\\n",
       "0             2  ...             0           1           0          0   \n",
       "1             2  ...             1           0           0          0   \n",
       "2             2  ...             0           1           0          0   \n",
       "3             2  ...             0           0           0          0   \n",
       "4             2  ...             0           0           0          0   \n",
       "\n",
       "   title_Mr  title_Mrs  title_Ms  title_Rev  title_Sir  title_the Countess  \n",
       "0         0          0         0          0          0                   0  \n",
       "1         0          0         0          0          0                   0  \n",
       "2         0          0         0          0          0                   0  \n",
       "3         1          0         0          0          0                   0  \n",
       "4         0          1         0          0          0                   0  \n",
       "\n",
       "[5 rows x 44 columns]"
      ]
     },
     "execution_count": 1,
     "metadata": {},
     "output_type": "execute_result"
    }
   ],
   "source": [
    "# Titanic import a preprocessing\n",
    "\n",
    "import pandas as pd\n",
    "import numpy as np\n",
    "import matplotlib.pyplot as plt\n",
    "\n",
    "%matplotlib inline\n",
    "\n",
    "titanic = pd.read_csv(\"../data/titanic-processed.csv\")\n",
    "\n",
    "titanic = titanic.drop(columns=['ticket', 'cabin'])\n",
    "\n",
    "titanic['sex'] = titanic['sex'].map({\"male\": 0, \"female\": 1})\n",
    "titanic['has_family'] = titanic['has_family'].map({False: 0, True: 1})\n",
    "\n",
    "titanic['fare_ordinal'] = titanic['fare_ordinal'].map({\"normal\": 0, \"more expensive\": 1, \"most expensive\": 2})\n",
    "titanic['age_ordinal'] = titanic['age_ordinal'].map({\"child\": 0, \"young\": 1, \"adult\": 2, \"old\": 3}) \n",
    "\n",
    "titanic = pd.get_dummies(titanic, columns=['embarked', 'title_short', 'deck', 'title'])\n",
    "\n",
    "titanic.head()"
   ]
  },
  {
   "cell_type": "markdown",
   "metadata": {},
   "source": [
    "Model môžeme upravovať viacerými parametrami. Keďže sa jedná o model, ktorý tvorí množstvo rôznych stromových klasifikátorov na rôznych podmnožinách vstupných dát, väčšina parametrov bude identická s rozhodovacími stromami: \n",
    "* `n_estimators` - počet stromov v \"lese\"\n",
    "* `bootstrap` -  ci sa pouzije nahodne skorovanie\n",
    "* `oob_score` - True/False - či používať alebo nie out-of-bag príklady na odhad presnosti\n",
    "* `criterion` - kritérium pre voľbu atribúrov - \"gini\", \"entropy\"\n",
    "* `max_depth` - maximálna hĺbka stromu (ak je nastavená na None, expanduje sa plný strom)\n",
    "* `min_samples_split` - najmenší počet príkladov potrebných pre vetvenie uzlu\n",
    "* `min_samples_leaf` - najmenší možný počet príkladov v listovom uzle"
   ]
  },
  {
   "cell_type": "code",
   "execution_count": 2,
   "metadata": {},
   "outputs": [
    {
     "name": "stdout",
     "output_type": "stream",
     "text": [
      "(1309, 43)\n",
      "(1309,)\n"
     ]
    }
   ],
   "source": [
    "X_titanic = titanic.drop('survived', axis=1) # vytvoríme maticu príznakov - použijeme všetky stĺpce okrem cieľového atribútu a uložíme do X_titanic\n",
    "y_titanic = titanic['survived'] # vytvoríme vektor hodnôt cieľového atribútu ako stĺpec 'survived'\n",
    "\n",
    "print(X_titanic.shape) # pre kontrolu môžeme vypísať rozmery matice hodnôt a vektora cieľového atribútu\n",
    "print(y_titanic.shape)\n",
    "\n",
    "from sklearn.model_selection import train_test_split # importujeme funkciu train_test_split()\n",
    "X_train, X_test, y_train, y_test = train_test_split(X_titanic, y_titanic, test_size=0.3, random_state=1) # rozdelíme dataset do trénovacej a testovacej časti, tak že testovacia bude 30% z celkového datasetu"
   ]
  },
  {
   "cell_type": "code",
   "execution_count": 7,
   "metadata": {},
   "outputs": [
    {
     "name": "stdout",
     "output_type": "stream",
     "text": [
      "Presnosť (accuracy) modelu: 0.7735368956743003\n",
      "[[195  41]\n",
      " [ 48 109]]\n"
     ]
    }
   ],
   "source": [
    "from sklearn.ensemble import RandomForestClassifier\n",
    "from sklearn.metrics import accuracy_score, confusion_matrix\n",
    "\n",
    "rf = RandomForestClassifier(n_estimators=100)\n",
    "rf.fit(X_train, y_train)\n",
    "\n",
    "y_rf = rf.predict(X_test)\n",
    "\n",
    "print(f\"Presnosť (accuracy) modelu: {accuracy_score(y_test, y_rf)}\")\n",
    "cm = confusion_matrix(y_test, y_rf)\n",
    "print(cm)"
   ]
  },
  {
   "cell_type": "markdown",
   "metadata": {},
   "source": [
    "Dôležitosť atribútov je podstatný výstup z modelu Random Forest. K dôležitosti atribútov sa dostaneme pomocou `feature_importances_`, ktoré sú súčasťou modelu Random Forest. Môžeme ich usporiadať a vypísať aj s jednotlivými zodpovedajúcimi názvami atribútov."
   ]
  },
  {
   "cell_type": "code",
   "execution_count": 4,
   "metadata": {},
   "outputs": [
    {
     "data": {
      "text/plain": [
       "[(0.2414193525324178, 'fare'),\n",
       " (0.19867673439985384, 'age'),\n",
       " (0.14364805012848286, 'sex'),\n",
       " (0.04859139084310195, 'pclass'),\n",
       " (0.04493663102288073, 'family'),\n",
       " (0.039430361068089115, 'title_Miss'),\n",
       " (0.025045016594139113, 'title_Mr'),\n",
       " (0.024656448405746413, 'title_short_Mr'),\n",
       " (0.02205255829975914, 'sibsp'),\n",
       " (0.022052498585006824, 'age_ordinal'),\n",
       " (0.019378872034531598, 'parch'),\n",
       " (0.018675394980667358, 'title_short_Mrs'),\n",
       " (0.016553407507690323, 'fare_ordinal'),\n",
       " (0.015203111362687038, 'embarked_Cherbourg'),\n",
       " (0.012605551362593392, 'deck_E'),\n",
       " (0.012550185897168022, 'deck_D'),\n",
       " (0.012442940281977358, 'title_Mrs'),\n",
       " (0.012367318871225526, 'embarked_Southampton'),\n",
       " (0.011944482637606394, 'title_short_Miss'),\n",
       " (0.00990837468596732, 'has_family'),\n",
       " (0.0078067122321792155, 'embarked_Queenstown'),\n",
       " (0.007711003355900978, 'deck_A'),\n",
       " (0.005475796150342356, 'deck_C'),\n",
       " (0.005401827654145498, 'deck_F'),\n",
       " (0.005185406788077034, 'deck_B'),\n",
       " (0.004118238171991858, 'title_Master'),\n",
       " (0.0036027337560752765, 'title_Ms'),\n",
       " (0.003480569466226694, 'deck_G'),\n",
       " (0.0017760216305585386, 'title_Dr'),\n",
       " (0.001629158289642912, 'title_short_rare title'),\n",
       " (0.0007310371568995842, 'title_Don'),\n",
       " (0.0003028839754944936, 'deck_T'),\n",
       " (0.00024128605770379108, 'title_Dona'),\n",
       " (0.00023143680559177928, 'title_Sir'),\n",
       " (7.941225248918405e-05, 'title_the Countess'),\n",
       " (6.506281096114903e-05, 'title_Col'),\n",
       " (2.2731944127546494e-05, 'title_Rev'),\n",
       " (0.0, 'title_Mme'),\n",
       " (0.0, 'title_Mlle'),\n",
       " (0.0, 'title_Major'),\n",
       " (0.0, 'title_Lady'),\n",
       " (0.0, 'title_Jonkheer'),\n",
       " (0.0, 'title_Capt')]"
      ]
     },
     "execution_count": 4,
     "metadata": {},
     "output_type": "execute_result"
    }
   ],
   "source": [
    "sorted(zip(rf.feature_importances_, X_train.columns), reverse=True)"
   ]
  },
  {
   "cell_type": "markdown",
   "metadata": {},
   "source": [
    "#### Úloha 12.5.\n",
    "\n",
    "Vyskúšajte natrénovať model Random Forests na dátach Titanic. \n",
    "Vyskúšajte rôzne hodnoty parametrov (najmä `n_estimators` nastaviť na rádovo rozdielne hodnoty, napr. 10, 100, 1000). \n",
    "Použite ale rôzne nastavenia parametrov stromov - porovnajte Random Forest s nastaveniami stromov, ktoré vyplynuli ako optimálne z predchádzajúcej úlohy. Porovnajte výsledky s Random Forest s takými stromami, ktoré obsahuju veľa plytkých stromov. Líšia sa nejako? "
   ]
  },
  {
   "cell_type": "code",
   "execution_count": null,
   "metadata": {},
   "outputs": [],
   "source": [
    "n_estimators - počet stromov v \"lese\"\n",
    "bootstrap - ci sa pouzije nahodne skorovanie\n",
    "oob_score - True/False - či používať alebo nie out-of-bag príklady na odhad presnosti\n",
    "criterion - kritérium pre voľbu atribúrov - \"gini\", \"entropy\"\n",
    "max_depth - maximálna hĺbka stromu (ak je nastavená na None, expanduje sa plný strom)\n",
    "min_samples_split - najmenší počet príkladov potrebných pre vetvenie uzlu\n",
    "min_samples_leaf -"
   ]
  },
  {
   "cell_type": "code",
   "execution_count": 16,
   "metadata": {},
   "outputs": [
    {
     "name": "stdout",
     "output_type": "stream",
     "text": [
      "{'criterion': ['gini', 'entropy'], 'max_depth': [3, 4, 5, 6], 'n_estimators': [100, 500, 1000], 'oob_score': [True, False]}\n"
     ]
    }
   ],
   "source": [
    "n_estimators_range = [100, 500, 1000]\n",
    "#bootstrap_range = [True, False]\n",
    "oob_score_range = [True, False]\n",
    "criterion_range = [\"gini\", \"entropy\"]\n",
    "max_depth_range = [3, 4, 5, 6]\n",
    "\n",
    "param_grid = dict(criterion=criterion_range, max_depth=max_depth_range, n_estimators=n_estimators_range, oob_score=oob_score_range)\n",
    "print(param_grid)"
   ]
  },
  {
   "cell_type": "code",
   "execution_count": 17,
   "metadata": {},
   "outputs": [
    {
     "name": "stderr",
     "output_type": "stream",
     "text": [
      "C:\\Users\\Inu\\Anaconda3\\lib\\site-packages\\sklearn\\model_selection\\_search.py:814: DeprecationWarning: The default of the `iid` parameter will change from True to False in version 0.22 and will be removed in 0.24. This will change numeric results when test-set sizes are unequal.\n",
      "  DeprecationWarning)\n"
     ]
    },
    {
     "data": {
      "text/plain": [
       "GridSearchCV(cv=5, error_score='raise-deprecating',\n",
       "             estimator=RandomForestClassifier(bootstrap=True, class_weight=None,\n",
       "                                              criterion='gini', max_depth=None,\n",
       "                                              max_features='auto',\n",
       "                                              max_leaf_nodes=None,\n",
       "                                              min_impurity_decrease=0.0,\n",
       "                                              min_impurity_split=None,\n",
       "                                              min_samples_leaf=1,\n",
       "                                              min_samples_split=2,\n",
       "                                              min_weight_fraction_leaf=0.0,\n",
       "                                              n_estimators=100, n_jobs=None,\n",
       "                                              oob_score=False,\n",
       "                                              random_state=None, verbose=0,\n",
       "                                              warm_start=False),\n",
       "             iid='warn', n_jobs=None,\n",
       "             param_grid={'criterion': ['gini', 'entropy'],\n",
       "                         'max_depth': [3, 4, 5, 6],\n",
       "                         'n_estimators': [100, 500, 1000],\n",
       "                         'oob_score': [True, False]},\n",
       "             pre_dispatch='2*n_jobs', refit=True, return_train_score=False,\n",
       "             scoring='accuracy', verbose=0)"
      ]
     },
     "execution_count": 17,
     "metadata": {},
     "output_type": "execute_result"
    }
   ],
   "source": [
    "from sklearn.model_selection import GridSearchCV\n",
    "grid = GridSearchCV(estimator=rf, param_grid=param_grid, cv=5, scoring='accuracy') \n",
    "grid.fit(X_train, y_train)"
   ]
  },
  {
   "cell_type": "code",
   "execution_count": 18,
   "metadata": {},
   "outputs": [
    {
     "name": "stdout",
     "output_type": "stream",
     "text": [
      "Najlepšie parametre sú:\n",
      "\n",
      "{'criterion': 'entropy', 'max_depth': 5, 'n_estimators': 500, 'oob_score': True}\n",
      "\n",
      "0.8089519650655022\n"
     ]
    }
   ],
   "source": [
    "print(\"Najlepšie parametre sú:\")\n",
    "print()\n",
    "print(grid.best_params_)\n",
    "print()\n",
    "print(grid.best_score_)"
   ]
  },
  {
   "cell_type": "code",
   "execution_count": 20,
   "metadata": {},
   "outputs": [
    {
     "name": "stdout",
     "output_type": "stream",
     "text": [
      "Presnosť (accuracy) modelu: 0.8244274809160306\n",
      "[[209  27]\n",
      " [ 42 115]]\n"
     ]
    }
   ],
   "source": [
    "rf = RandomForestClassifier(criterion='entropy', max_depth=5, n_estimators=500, oob_score=True)\n",
    "rf.fit(X_train, y_train)\n",
    "y_rf = rf.predict(X_test)\n",
    "\n",
    "print(f\"Presnosť (accuracy) modelu: {accuracy_score(y_test, y_rf)}\")\n",
    "cm = confusion_matrix(y_test, y_rf)\n",
    "print(cm)"
   ]
  },
  {
   "cell_type": "code",
   "execution_count": 21,
   "metadata": {},
   "outputs": [
    {
     "data": {
      "text/plain": [
       "[(0.1403435473921362, 'sex'),\n",
       " (0.13088969956301502, 'title_short_Mr'),\n",
       " (0.1248868361175012, 'title_Mr'),\n",
       " (0.0960579818372347, 'fare'),\n",
       " (0.08651088956075006, 'pclass'),\n",
       " (0.04282450524532846, 'title_short_Mrs'),\n",
       " (0.04263564732823605, 'age'),\n",
       " (0.04146468357733152, 'fare_ordinal'),\n",
       " (0.03939458508312596, 'family'),\n",
       " (0.037108359387029964, 'title_Mrs'),\n",
       " (0.033520231598391695, 'sibsp'),\n",
       " (0.03189446953562805, 'title_Miss'),\n",
       " (0.03138966204176144, 'title_short_Miss'),\n",
       " (0.015256111194645035, 'parch'),\n",
       " (0.013317240608617107, 'embarked_Cherbourg'),\n",
       " (0.011146949155793694, 'age_ordinal'),\n",
       " (0.010621402854893443, 'embarked_Southampton'),\n",
       " (0.00988570330520688, 'deck_E'),\n",
       " (0.008606793134215132, 'has_family'),\n",
       " (0.00825983449578542, 'deck_B'),\n",
       " (0.007424768824994589, 'title_short_rare title'),\n",
       " (0.006480848282825731, 'title_Master'),\n",
       " (0.00545668789452889, 'deck_C'),\n",
       " (0.004838025787894666, 'title_Rev'),\n",
       " (0.004804315883286543, 'deck_D'),\n",
       " (0.004113883192323709, 'embarked_Queenstown'),\n",
       " (0.0038620702515888058, 'deck_A'),\n",
       " (0.0027566640627664095, 'deck_F'),\n",
       " (0.001079660088726629, 'title_Dr'),\n",
       " (0.0007108352705640631, 'deck_G'),\n",
       " (0.0005970922132499056, 'title_Don'),\n",
       " (0.0003504732284337658, 'title_Ms'),\n",
       " (0.00034306494883082074, 'title_Col'),\n",
       " (0.0003082989933812732, 'title_Major'),\n",
       " (0.0002571055893750497, 'title_Sir'),\n",
       " (0.00024895902481023843, 'title_Jonkheer'),\n",
       " (9.987358333702603e-05, 'deck_T'),\n",
       " (8.626545740546051e-05, 'title_the Countess'),\n",
       " (8.533976422852593e-05, 'title_Mlle'),\n",
       " (8.0634640820787e-05, 'title_Dona'),\n",
       " (0.0, 'title_Mme'),\n",
       " (0.0, 'title_Lady'),\n",
       " (0.0, 'title_Capt')]"
      ]
     },
     "execution_count": 21,
     "metadata": {},
     "output_type": "execute_result"
    }
   ],
   "source": [
    "sorted(zip(rf.feature_importances_, X_train.columns), reverse=True)"
   ]
  },
  {
   "cell_type": "code",
   "execution_count": null,
   "metadata": {},
   "outputs": [],
   "source": []
  }
 ],
 "metadata": {
  "kernelspec": {
   "display_name": "Python 3",
   "language": "python",
   "name": "python3"
  },
  "language_info": {
   "codemirror_mode": {
    "name": "ipython",
    "version": 3
   },
   "file_extension": ".py",
   "mimetype": "text/x-python",
   "name": "python",
   "nbconvert_exporter": "python",
   "pygments_lexer": "ipython3",
   "version": "3.7.3"
  }
 },
 "nbformat": 4,
 "nbformat_minor": 4
}
